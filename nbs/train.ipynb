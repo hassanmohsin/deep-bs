{
 "cells": [
  {
   "cell_type": "code",
   "execution_count": 25,
   "metadata": {},
   "outputs": [],
   "source": [
    "%matplotlib inline\n",
    "\n",
    "import matplotlib\n",
    "import numpy as np\n",
    "import matplotlib.pyplot as plt\n",
    "import pandas as pd\n",
    "from pathlib import Path"
   ]
  },
  {
   "cell_type": "code",
   "execution_count": 26,
   "metadata": {},
   "outputs": [],
   "source": [
    "import torch\n",
    "from torch import nn\n",
    "from torch.utils.data import Dataset, DataLoader\n",
    "from torchvision import transforms"
   ]
  },
  {
   "cell_type": "code",
   "execution_count": 27,
   "metadata": {},
   "outputs": [],
   "source": [
    "from data import *\n",
    "from data.base_dataset import *\n",
    "from data.pdbbind_dataset import *\n",
    "from model import *"
   ]
  },
  {
   "cell_type": "code",
   "execution_count": 28,
   "metadata": {},
   "outputs": [],
   "source": [
    "device = torch.device(\"cuda:2\" if torch.cuda.is_available() else \"cpu\")"
   ]
  },
  {
   "cell_type": "code",
   "execution_count": 29,
   "metadata": {},
   "outputs": [],
   "source": [
    "path = Path('../../data')"
   ]
  },
  {
   "cell_type": "code",
   "execution_count": 30,
   "metadata": {},
   "outputs": [],
   "source": [
    "input_nc = 24\n",
    "bs = 16\n",
    "\n",
    "tfms = transforms.Compose([Center(),\n",
    "                           Rotate(90),\n",
    "                           Channel(['C'], input_nc, 1.0, 1.4),\n",
    "                           Channel(['O'], input_nc, 1.0, 1.4),\n",
    "                           Channel(['N'], input_nc, 1.0, 1.4),\n",
    "                           ToTensor()])\n",
    "class Option:\n",
    "    csvfile = path/'refined_set.csv'\n",
    "    dataroot = '../../../2018/refined-set/'\n",
    "    channels = 'cno'\n",
    "    grid_size = 20\n",
    "    grid_spacing = 1\n",
    "    rvdw = 1.4\n",
    "    filter_kd = True\n",
    "    rotate = 10\n",
    "\n",
    "opt = Option()\n",
    "ds = PdbBindDataset()\n",
    "ds.initialize(opt)\n",
    "dl = torch.utils.data.DataLoader(ds, batch_size=bs,\n",
    "                                 shuffle=True, num_workers=0)"
   ]
  },
  {
   "cell_type": "raw",
   "metadata": {},
   "source": [
    "pdb = GridPDB('../../../2018/refined-set/10gs/10gs_pocket.pdb')\n",
    "size = 20\n",
    "rvdw = 1.4\n",
    "spacing = 1.0\n",
    "nx, ny, nz = [int(size/spacing)+1 for _ in range(3)]\n",
    "xmin, ymin, zmin = [_-int(size/2) for _ in pdb.center]\n",
    "grid = np.zeros((nx, ny, nz), dtype=np.float32)\n",
    "coords_to_grid_numba(pdb.coords, grid, nx, ny, nz, xmin, ymin, zmin, spacing, rvdw)"
   ]
  },
  {
   "cell_type": "code",
   "execution_count": 31,
   "metadata": {},
   "outputs": [],
   "source": [
    "data = next(iter(dl))"
   ]
  },
  {
   "cell_type": "code",
   "execution_count": 41,
   "metadata": {
    "scrolled": false
   },
   "outputs": [
    {
     "data": {
      "text/plain": [
       "array([[[  5.58753044e-12,   9.74631487e-12,   1.69861902e-11, ...,\n",
       "           1.35584877e-11,   7.25541849e-12,   3.88178378e-12],\n",
       "        [  8.34865510e-12,   1.52607926e-11,   2.81034085e-11, ...,\n",
       "           2.35950148e-11,   1.18552945e-11,   5.99842398e-12],\n",
       "        [  1.20341515e-11,   2.30775399e-11,   4.49991155e-11, ...,\n",
       "           3.98938660e-11,   1.87573290e-11,   8.97693031e-12],\n",
       "        ..., \n",
       "        [  1.07303055e-12,   1.61826108e-12,   2.40507614e-12, ...,\n",
       "           1.82942550e-12,   1.17084120e-12,   7.38742401e-13],\n",
       "        [  6.62359056e-13,   9.64117675e-13,   1.38034029e-12, ...,\n",
       "           1.03228537e-12,   6.88893387e-13,   4.52415883e-13],\n",
       "        [  4.08562073e-13,   5.75539616e-13,   7.96807065e-13, ...,\n",
       "           5.89528426e-13,   4.08117984e-13,   2.77888823e-13]],\n",
       "\n",
       "       [[  8.80229223e-12,   1.58719704e-11,   2.86406454e-11, ...,\n",
       "           2.11185514e-11,   1.08280052e-11,   5.57742741e-12],\n",
       "        [  1.34843248e-11,   2.56099586e-11,   4.91091612e-11, ...,\n",
       "           3.82613941e-11,   1.82580617e-11,   8.83493279e-12],\n",
       "        [  1.99084083e-11,   3.98421296e-11,   8.14251999e-11, ...,\n",
       "           6.75137724e-11,   2.98648883e-11,   1.35537137e-11],\n",
       "        ..., \n",
       "        [  1.51889612e-12,   2.33435493e-12,   3.53150842e-12, ...,\n",
       "           2.52575738e-12,   1.58117963e-12,   9.76441150e-13],\n",
       "        [  9.14934795e-13,   1.35269573e-12,   1.96542782e-12, ...,\n",
       "           1.38788980e-12,   9.08717546e-13,   5.86308779e-13],\n",
       "        [  5.50892665e-13,   7.86593013e-13,   1.10311760e-12, ...,\n",
       "           7.73825448e-13,   5.27577981e-13,   3.53606033e-13]],\n",
       "\n",
       "       [[  1.36700651e-11,   2.54913868e-11,   4.76297890e-11, ...,\n",
       "           3.12794235e-11,   1.54246615e-11,   7.68074493e-12],\n",
       "        [  2.14971374e-11,   4.23949764e-11,   8.45866710e-11, ...,\n",
       "           5.87238036e-11,   2.67383893e-11,   1.24248389e-11],\n",
       "        [  3.25165450e-11,   6.78637146e-11,   1.44992907e-10, ...,\n",
       "           1.07674092e-10,   4.50290916e-11,   1.94848582e-11],\n",
       "        ..., \n",
       "        [  2.10997886e-12,   3.30124816e-12,   5.07993647e-12, ...,\n",
       "           3.35487194e-12,   2.05813144e-12,   1.24789068e-12],\n",
       "        [  1.23934196e-12,   1.86051174e-12,   2.74180678e-12, ...,\n",
       "           1.80133686e-12,   1.16007204e-12,   7.36521955e-13],\n",
       "        [  7.29527549e-13,   1.05482290e-12,   1.49635859e-12, ...,\n",
       "           9.84323734e-13,   6.61137811e-13,   4.37205827e-13]],\n",
       "\n",
       "       ..., \n",
       "       [[  2.21095364e-11,   4.19529966e-11,   7.76732012e-11, ...,\n",
       "           5.27167199e-12,   2.95785618e-12,   1.67532654e-12],\n",
       "        [  3.82502918e-11,   7.79650788e-11,   1.56186952e-10, ...,\n",
       "           7.71105402e-12,   4.16944257e-12,   2.28606023e-12],\n",
       "        [  6.33986197e-11,   1.39242062e-10,   3.03085557e-10, ...,\n",
       "           1.08383302e-11,   5.65791858e-12,   3.00925951e-12],\n",
       "        ..., \n",
       "        [  1.87361238e-12,   2.78976842e-12,   4.02877731e-12, ...,\n",
       "           8.87734330e-13,   5.81756865e-13,   3.78808096e-13],\n",
       "        [  1.07525100e-12,   1.54287694e-12,   2.15050200e-12, ...,\n",
       "           5.56665825e-13,   3.76476628e-13,   2.52575738e-13],\n",
       "        [  6.22391028e-13,   8.64308625e-13,   1.16728849e-12, ...,\n",
       "           3.47943896e-13,   2.42472709e-13,   1.67310610e-13]],\n",
       "\n",
       "       [[  1.29005695e-11,   2.30945263e-11,   4.01775280e-11, ...,\n",
       "           3.33577610e-12,   1.93989269e-12,   1.13453691e-12],\n",
       "        [  2.12398987e-11,   4.03049816e-11,   7.47326645e-11, ...,\n",
       "           4.75219863e-12,   2.67386113e-12,   1.51967328e-12],\n",
       "        [  3.35310668e-11,   6.75165479e-11,   1.33640543e-10, ...,\n",
       "           6.51667609e-12,   3.55426799e-12,   1.96653804e-12],\n",
       "        ..., \n",
       "        [  1.28419497e-12,   1.86317628e-12,   2.62367905e-12, ...,\n",
       "           6.20170582e-13,   4.14890344e-13,   2.75779399e-13],\n",
       "        [  7.59614593e-13,   1.06681330e-12,   1.45583545e-12, ...,\n",
       "           3.98348021e-13,   2.74447132e-13,   1.87405647e-13],\n",
       "        [  4.51971793e-13,   6.16395823e-13,   8.17790280e-13, ...,\n",
       "           2.55129251e-13,   1.80522264e-13,   1.26232358e-13]],\n",
       "\n",
       "       [[  7.33157979e-12,   1.24087407e-11,   2.03784767e-11, ...,\n",
       "           2.08022488e-12,   1.25321975e-12,   7.57172103e-13],\n",
       "        [  1.15160104e-11,   2.04321005e-11,   3.52643470e-11, ...,\n",
       "           2.89057667e-12,   1.69086967e-12,   9.95981075e-13],\n",
       "        [  1.73474568e-11,   3.22728511e-11,   5.85722582e-11, ...,\n",
       "           3.86912724e-12,   2.20412577e-12,   1.26743060e-12],\n",
       "        ..., \n",
       "        [  8.61200000e-13,   1.21846977e-12,   1.67488245e-12, ...,\n",
       "           4.26991775e-13,   2.91766611e-13,   1.97952765e-13],\n",
       "        [  5.25468558e-13,   7.22200078e-13,   9.65783009e-13, ...,\n",
       "           2.81219492e-13,   1.97175609e-13,   1.37001521e-13],\n",
       "        [  3.21520588e-13,   4.30544489e-13,   5.61550806e-13, ...,\n",
       "           1.83963955e-13,   1.32449607e-13,   9.40358902e-14]]], dtype=float32)"
      ]
     },
     "execution_count": 41,
     "metadata": {},
     "output_type": "execute_result"
    }
   ],
   "source": [
    "data['grids'][0,1].cpu().numpy()"
   ]
  },
  {
   "cell_type": "code",
   "execution_count": 35,
   "metadata": {},
   "outputs": [
    {
     "data": {
      "text/plain": [
       "1.9862977"
      ]
     },
     "execution_count": 35,
     "metadata": {},
     "output_type": "execute_result"
    }
   ],
   "source": [
    "np.max()"
   ]
  },
  {
   "cell_type": "code",
   "execution_count": 15,
   "metadata": {},
   "outputs": [
    {
     "ename": "NameError",
     "evalue": "name 'KDeepModel' is not defined",
     "output_type": "error",
     "traceback": [
      "\u001b[0;31m---------------------------------------------------------------------------\u001b[0m",
      "\u001b[0;31mNameError\u001b[0m                                 Traceback (most recent call last)",
      "\u001b[0;32m<ipython-input-15-f8283ea84bf1>\u001b[0m in \u001b[0;36m<module>\u001b[0;34m()\u001b[0m\n\u001b[0;32m----> 1\u001b[0;31m \u001b[0mmodel\u001b[0m \u001b[0;34m=\u001b[0m \u001b[0mKDeepModel\u001b[0m\u001b[0;34m(\u001b[0m\u001b[0minput_nc\u001b[0m\u001b[0;34m=\u001b[0m\u001b[0;36m6\u001b[0m\u001b[0;34m)\u001b[0m\u001b[0;34m\u001b[0m\u001b[0m\n\u001b[0m\u001b[1;32m      2\u001b[0m \u001b[0mmodel\u001b[0m\u001b[0;34m.\u001b[0m\u001b[0mto\u001b[0m\u001b[0;34m(\u001b[0m\u001b[0mdevice\u001b[0m\u001b[0;34m)\u001b[0m\u001b[0;34m\u001b[0m\u001b[0m\n",
      "\u001b[0;31mNameError\u001b[0m: name 'KDeepModel' is not defined"
     ]
    }
   ],
   "source": [
    "model = KDeepModel(input_nc=6)\n",
    "model.to(device)"
   ]
  },
  {
   "cell_type": "code",
   "execution_count": 29,
   "metadata": {},
   "outputs": [],
   "source": [
    "import torch.optim as optim\n",
    "\n",
    "criterion = nn.MSELoss()\n",
    "optimizer = optim.SGD(model.parameters(), lr=0.01, momentum=0.9)"
   ]
  },
  {
   "cell_type": "code",
   "execution_count": 57,
   "metadata": {},
   "outputs": [],
   "source": [
    "for param_group in optimizer.param_groups:\n",
    "    param_group['lr'] = 0.0001"
   ]
  },
  {
   "cell_type": "code",
   "execution_count": null,
   "metadata": {},
   "outputs": [
    {
     "name": "stdout",
     "output_type": "stream",
     "text": [
      "[1,    20] loss: 42.319\n",
      "[1,    40] loss: 45.145\n",
      "[1,    60] loss: 45.195\n",
      "[1,    80] loss: 38.745\n",
      "[1,   100] loss: 42.507\n",
      "[1,   120] loss: 42.891\n",
      "[2,    20] loss: 45.096\n",
      "[2,    40] loss: 40.623\n",
      "[2,    60] loss: 42.159\n",
      "[2,    80] loss: 40.413\n",
      "[2,   100] loss: 43.612\n",
      "[2,   120] loss: 46.234\n",
      "[3,    20] loss: 45.709\n",
      "[3,    40] loss: 38.737\n",
      "[3,    60] loss: 41.660\n",
      "[3,    80] loss: 49.065\n",
      "[3,   100] loss: 39.815\n",
      "[3,   120] loss: 45.227\n",
      "[4,    20] loss: 43.844\n",
      "[4,    40] loss: 43.751\n",
      "[4,    60] loss: 45.393\n",
      "[4,    80] loss: 42.424\n",
      "[4,   100] loss: 43.655\n",
      "[4,   120] loss: 39.146\n",
      "[5,    20] loss: 40.133\n",
      "[5,    40] loss: 43.738\n",
      "[5,    60] loss: 46.688\n",
      "[5,    80] loss: 44.534\n",
      "[5,   100] loss: 42.289\n",
      "[5,   120] loss: 40.027\n",
      "[6,    20] loss: 42.493\n",
      "[6,    40] loss: 45.166\n",
      "[6,    60] loss: 42.097\n",
      "[6,    80] loss: 43.195\n",
      "[6,   100] loss: 41.787\n",
      "[6,   120] loss: 47.753\n",
      "[7,    20] loss: 46.517\n",
      "[7,    40] loss: 41.264\n",
      "[7,    60] loss: 39.224\n",
      "[7,    80] loss: 44.188\n",
      "[7,   100] loss: 45.179\n",
      "[7,   120] loss: 41.914\n",
      "[8,    20] loss: 42.662\n",
      "[8,    40] loss: 45.317\n",
      "[8,    60] loss: 40.997\n",
      "[8,    80] loss: 40.659\n",
      "[8,   100] loss: 44.622\n",
      "[8,   120] loss: 46.441\n",
      "[9,    20] loss: 44.803\n",
      "[9,    40] loss: 46.999\n",
      "[9,    60] loss: 39.653\n",
      "[9,    80] loss: 44.818\n",
      "[9,   100] loss: 41.919\n",
      "[9,   120] loss: 43.537\n",
      "[10,    20] loss: 39.665\n",
      "[10,    40] loss: 43.303\n",
      "[10,    60] loss: 44.417\n",
      "[10,    80] loss: 43.460\n"
     ]
    }
   ],
   "source": [
    "for epoch in range(10):\n",
    "    running_loss = 0\n",
    "    for i, data in enumerate(dl, 0):\n",
    "        grids = data['grids'].to(device)\n",
    "        affinities = data['affinity'].to(device)\n",
    "        optimizer.zero_grad()\n",
    "\n",
    "        # forward + backward + optimize\n",
    "        outputs = model(grids)\n",
    "        loss = criterion(outputs, affinities)\n",
    "        loss.backward()\n",
    "        optimizer.step()\n",
    "\n",
    "        # print statistics\n",
    "        running_loss += loss.item()\n",
    "        if i % 20 == 19:    # print every 2000 mini-batches\n",
    "            print('[%d, %5d] loss: %.3f' %\n",
    "                  (epoch + 1, i + 1, running_loss / 20))\n",
    "            running_loss = 0.0"
   ]
  },
  {
   "cell_type": "code",
   "execution_count": 55,
   "metadata": {},
   "outputs": [
    {
     "data": {
      "text/plain": [
       "tensor([[10.8296],\n",
       "        [10.4283],\n",
       "        [ 9.4874],\n",
       "        [ 9.2714],\n",
       "        [ 9.8149]], device='cuda:1', grad_fn=<AddmmBackward>)"
      ]
     },
     "execution_count": 55,
     "metadata": {},
     "output_type": "execute_result"
    }
   ],
   "source": [
    "outputs"
   ]
  },
  {
   "cell_type": "code",
   "execution_count": 56,
   "metadata": {},
   "outputs": [
    {
     "data": {
      "text/plain": [
       "tensor([[ 8.5685],\n",
       "        [ 4.7105],\n",
       "        [ 2.8134],\n",
       "        [ 5.8091],\n",
       "        [16.1181]], device='cuda:1')"
      ]
     },
     "execution_count": 56,
     "metadata": {},
     "output_type": "execute_result"
    }
   ],
   "source": [
    "affinities"
   ]
  },
  {
   "cell_type": "code",
   "execution_count": null,
   "metadata": {},
   "outputs": [],
   "source": []
  }
 ],
 "metadata": {
  "kernelspec": {
   "display_name": "Python 3",
   "language": "python",
   "name": "python3"
  },
  "language_info": {
   "codemirror_mode": {
    "name": "ipython",
    "version": 3
   },
   "file_extension": ".py",
   "mimetype": "text/x-python",
   "name": "python",
   "nbconvert_exporter": "python",
   "pygments_lexer": "ipython3",
   "version": "3.6.6"
  }
 },
 "nbformat": 4,
 "nbformat_minor": 2
}
