{
 "cells": [
  {
   "cell_type": "code",
   "execution_count": 1,
   "metadata": {},
   "outputs": [],
   "source": [
    "%matplotlib inline\n",
    "\n",
    "import matplotlib\n",
    "import numpy as np\n",
    "import matplotlib.pyplot as plt\n",
    "import pandas as pd\n",
    "from pathlib import Path"
   ]
  },
  {
   "cell_type": "code",
   "execution_count": 2,
   "metadata": {},
   "outputs": [],
   "source": [
    "import torch\n",
    "from torch import nn\n",
    "from torch.utils.data import Dataset, DataLoader\n",
    "from torchvision import transforms"
   ]
  },
  {
   "cell_type": "code",
   "execution_count": 3,
   "metadata": {},
   "outputs": [],
   "source": [
    "from data import *"
   ]
  },
  {
   "cell_type": "code",
   "execution_count": 4,
   "metadata": {},
   "outputs": [],
   "source": [
    "path = Path('../data')"
   ]
  },
  {
   "cell_type": "code",
   "execution_count": 5,
   "metadata": {},
   "outputs": [],
   "source": [
    "pdbbind_dataset = PdbBindDataset(csvfile=path/'refined_set.csv',\n",
    "                                 rootdir='../../2018/refined-set/',\n",
    "                                 filter_kd=True)\n",
    "sample = pdbbind_dataset[0]"
   ]
  },
  {
   "cell_type": "code",
   "execution_count": 6,
   "metadata": {},
   "outputs": [],
   "source": [
    "tfms = transforms.Compose([Center(),\n",
    "                           Rotate(90),\n",
    "                           Channel(['C'], 20, 1.0, 1.4),\n",
    "                           Channel(['O'], 20, 1.0, 1.4),\n",
    "                           Channel(['N'], 20, 1.0, 1.4),\n",
    "                           ToTensor()])\n",
    "ds = PdbBindDataset(csvfile=path/'refined_set.csv',\n",
    "                    rootdir='../../2018/refined-set/',\n",
    "                    filter_kd=True,\n",
    "                    transform=tfms)"
   ]
  },
  {
   "cell_type": "code",
   "execution_count": 7,
   "metadata": {},
   "outputs": [],
   "source": [
    "class Fire(nn.Module):\n",
    "    def __init__(self, inplanes, squeeze_planes,\n",
    "                 expand1x1_planes, expand3x3_planes):\n",
    "        super(Fire, self).__init__()\n",
    "        self.inplanes = inplanes\n",
    "        self.squeeze = nn.Conv3d(inplanes, squeeze_planes, kernel_size=1)\n",
    "        self.squeeze_activation = nn.ReLU(inplace=True)\n",
    "        self.expand1x1 = nn.Conv3d(squeeze_planes, expand1x1_planes,\n",
    "                                   kernel_size=1)\n",
    "        self.expand1x1_activation = nn.ReLU(inplace=True)\n",
    "        self.expand3x3 = nn.Conv3d(squeeze_planes, expand3x3_planes,\n",
    "                                   kernel_size=3, padding=1)\n",
    "        self.expand3x3_activation = nn.ReLU(inplace=True)\n",
    "\n",
    "    def forward(self, x):\n",
    "        x = self.squeeze_activation(self.squeeze(x))\n",
    "        return torch.cat([\n",
    "            self.expand1x1_activation(self.expand1x1(x)),\n",
    "            self.expand3x3_activation(self.expand3x3(x))\n",
    "        ], 1)\n",
    "\n",
    "class Flatten(nn.Module):\n",
    "    def forward(self, input):\n",
    "        return input.view(input.size(0), -1)\n",
    "    \n",
    "class SqueezeNet(nn.Module):\n",
    "    def __init__(self, input_nc):\n",
    "        super().__init__()\n",
    "        output_nc = 64\n",
    "        features = [nn.Conv3d(input_nc, output_nc, kernel_size=7, stride=2),\n",
    "                    nn.ReLU(inplace=True),\n",
    "                    nn.MaxPool3d(kernel_size=3, stride=2, ceil_mode=True),\n",
    "                    Fire(64, 16, 64, 64),\n",
    "                    Fire(128, 16, 64, 64),\n",
    "                    nn.MaxPool3d(kernel_size=3, stride=2, ceil_mode=True),\n",
    "                    Fire(128, 32, 128, 128),\n",
    "                    Fire(256, 32, 128, 128),\n",
    "                    nn.MaxPool3d(kernel_size=3, stride=2, ceil_mode=True),\n",
    "                    Fire(256, 48, 192, 192),\n",
    "                    Fire(384, 48, 192, 192),\n",
    "                    Fire(384, 64, 256, 256),\n",
    "                    Fire(512, 64, 256, 256)]\n",
    "        \n",
    "        head = [Flatten(),\n",
    "                nn.Dropout(p=0.5),\n",
    "                nn.Linear(512, 128),\n",
    "                nn.ReLU(inplace=True),\n",
    "                nn.BatchNorm1d(128),\n",
    "                nn.Dropout(p=0.5),\n",
    "                nn.Linear(128, 1)\n",
    "                ]\n",
    "        \n",
    "        self.features = nn.Sequential(*features)\n",
    "        self.head = nn.Sequential(*head)\n",
    "    \n",
    "    def forward(self, x):\n",
    "        x = self.features(x)\n",
    "        x = self.head(x)\n",
    "        return x"
   ]
  },
  {
   "cell_type": "code",
   "execution_count": 106,
   "metadata": {},
   "outputs": [],
   "source": [
    "class KDeep(nn.Module):\n",
    "    def __init__(self, input_nc):\n",
    "        super().__init__()\n",
    "        output_nc = 96\n",
    "        features = [nn.Conv3d(input_nc, output_nc, kernel_size=3, stride=2, padding=1),\n",
    "                    nn.ReLU(inplace=True),\n",
    "                    Fire(96, 16, 64, 64),\n",
    "                    Fire(128, 16, 64, 64),\n",
    "                    Fire(128, 32, 128, 128),\n",
    "                    nn.MaxPool3d(kernel_size=3, stride=2, ceil_mode=True),\n",
    "                    Fire(256, 32, 128, 128),\n",
    "                    Fire(256, 48, 192, 192),\n",
    "                    Fire(384, 48, 192, 192),\n",
    "                    Fire(384, 64, 256, 256),]\n",
    "        head = [nn.AdaptiveAvgPool3d((2, 2, 2)),\n",
    "                Flatten(),\n",
    "                nn.Linear(4096, 1)]\n",
    "        self.features = nn.Sequential(*features)\n",
    "        self.head = nn.Sequential(*head)\n",
    "    \n",
    "    def forward(self, x):\n",
    "        x = self.features(x)\n",
    "        x = self.head(x)\n",
    "        return x"
   ]
  },
  {
   "cell_type": "code",
   "execution_count": 107,
   "metadata": {},
   "outputs": [],
   "source": [
    "model = KDeep(input_nc=6)"
   ]
  },
  {
   "cell_type": "code",
   "execution_count": 108,
   "metadata": {},
   "outputs": [
    {
     "name": "stdout",
     "output_type": "stream",
     "text": [
      "----------------------------------------------------------------\n",
      "        Layer (type)               Output Shape         Param #\n",
      "================================================================\n",
      "            Conv3d-1       [-1, 96, 12, 12, 12]          15,648\n",
      "              ReLU-2       [-1, 96, 12, 12, 12]               0\n",
      "            Conv3d-3       [-1, 16, 12, 12, 12]           1,552\n",
      "              ReLU-4       [-1, 16, 12, 12, 12]               0\n",
      "            Conv3d-5       [-1, 64, 12, 12, 12]           1,088\n",
      "              ReLU-6       [-1, 64, 12, 12, 12]               0\n",
      "            Conv3d-7       [-1, 64, 12, 12, 12]          27,712\n",
      "              ReLU-8       [-1, 64, 12, 12, 12]               0\n",
      "              Fire-9      [-1, 128, 12, 12, 12]               0\n",
      "           Conv3d-10       [-1, 16, 12, 12, 12]           2,064\n",
      "             ReLU-11       [-1, 16, 12, 12, 12]               0\n",
      "           Conv3d-12       [-1, 64, 12, 12, 12]           1,088\n",
      "             ReLU-13       [-1, 64, 12, 12, 12]               0\n",
      "           Conv3d-14       [-1, 64, 12, 12, 12]          27,712\n",
      "             ReLU-15       [-1, 64, 12, 12, 12]               0\n",
      "             Fire-16      [-1, 128, 12, 12, 12]               0\n",
      "           Conv3d-17       [-1, 32, 12, 12, 12]           4,128\n",
      "             ReLU-18       [-1, 32, 12, 12, 12]               0\n",
      "           Conv3d-19      [-1, 128, 12, 12, 12]           4,224\n",
      "             ReLU-20      [-1, 128, 12, 12, 12]               0\n",
      "           Conv3d-21      [-1, 128, 12, 12, 12]         110,720\n",
      "             ReLU-22      [-1, 128, 12, 12, 12]               0\n",
      "             Fire-23      [-1, 256, 12, 12, 12]               0\n",
      "        MaxPool3d-24         [-1, 256, 6, 6, 6]               0\n",
      "           Conv3d-25          [-1, 32, 6, 6, 6]           8,224\n",
      "             ReLU-26          [-1, 32, 6, 6, 6]               0\n",
      "           Conv3d-27         [-1, 128, 6, 6, 6]           4,224\n",
      "             ReLU-28         [-1, 128, 6, 6, 6]               0\n",
      "           Conv3d-29         [-1, 128, 6, 6, 6]         110,720\n",
      "             ReLU-30         [-1, 128, 6, 6, 6]               0\n",
      "             Fire-31         [-1, 256, 6, 6, 6]               0\n",
      "           Conv3d-32          [-1, 48, 6, 6, 6]          12,336\n",
      "             ReLU-33          [-1, 48, 6, 6, 6]               0\n",
      "           Conv3d-34         [-1, 192, 6, 6, 6]           9,408\n",
      "             ReLU-35         [-1, 192, 6, 6, 6]               0\n",
      "           Conv3d-36         [-1, 192, 6, 6, 6]         249,024\n",
      "             ReLU-37         [-1, 192, 6, 6, 6]               0\n",
      "             Fire-38         [-1, 384, 6, 6, 6]               0\n",
      "           Conv3d-39          [-1, 48, 6, 6, 6]          18,480\n",
      "             ReLU-40          [-1, 48, 6, 6, 6]               0\n",
      "           Conv3d-41         [-1, 192, 6, 6, 6]           9,408\n",
      "             ReLU-42         [-1, 192, 6, 6, 6]               0\n",
      "           Conv3d-43         [-1, 192, 6, 6, 6]         249,024\n",
      "             ReLU-44         [-1, 192, 6, 6, 6]               0\n",
      "             Fire-45         [-1, 384, 6, 6, 6]               0\n",
      "           Conv3d-46          [-1, 64, 6, 6, 6]          24,640\n",
      "             ReLU-47          [-1, 64, 6, 6, 6]               0\n",
      "           Conv3d-48         [-1, 256, 6, 6, 6]          16,640\n",
      "             ReLU-49         [-1, 256, 6, 6, 6]               0\n",
      "           Conv3d-50         [-1, 256, 6, 6, 6]         442,624\n",
      "             ReLU-51         [-1, 256, 6, 6, 6]               0\n",
      "             Fire-52         [-1, 512, 6, 6, 6]               0\n",
      "AdaptiveAvgPool3d-53         [-1, 512, 2, 2, 2]               0\n",
      "          Flatten-54                 [-1, 4096]               0\n",
      "           Linear-55                    [-1, 1]           4,097\n",
      "================================================================\n",
      "Total params: 1,354,785\n",
      "Trainable params: 1,354,785\n",
      "Non-trainable params: 0\n",
      "----------------------------------------------------------------\n",
      "Input size (MB): 0.32\n",
      "Forward/backward pass size (MB): 33.18\n",
      "Params size (MB): 5.17\n",
      "Estimated Total Size (MB): 38.66\n",
      "----------------------------------------------------------------\n"
     ]
    }
   ],
   "source": [
    "from torchsummary import summary\n",
    "summary(model, input_size=(6, 24, 24, 24))"
   ]
  },
  {
   "cell_type": "code",
   "execution_count": null,
   "metadata": {},
   "outputs": [],
   "source": []
  },
  {
   "cell_type": "code",
   "execution_count": null,
   "metadata": {},
   "outputs": [],
   "source": []
  }
 ],
 "metadata": {
  "kernelspec": {
   "display_name": "Python 3",
   "language": "python",
   "name": "python3"
  },
  "language_info": {
   "codemirror_mode": {
    "name": "ipython",
    "version": 3
   },
   "file_extension": ".py",
   "mimetype": "text/x-python",
   "name": "python",
   "nbconvert_exporter": "python",
   "pygments_lexer": "ipython3",
   "version": "3.6.7"
  }
 },
 "nbformat": 4,
 "nbformat_minor": 2
}
