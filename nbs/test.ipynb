{
 "cells": [
  {
   "cell_type": "code",
   "execution_count": 1,
   "metadata": {},
   "outputs": [
    {
     "name": "stdout",
     "output_type": "stream",
     "text": [
      "------------ Options -------------\n",
      "aspect_ratio: 1.0\n",
      "batch_size: 64\n",
      "channels: gnina\n",
      "checkpoints_dir: ./checkpoints\n",
      "csvfile: /home/sunhwan/work/pdbbind/deep/data/test.csv\n",
      "dataroot: /home/sunhwan/work/pdbbind/2018/refined-set\n",
      "dataset_mode: pdbbind\n",
      "filter_kd: False\n",
      "gpu_ids: [0]\n",
      "grid_method: gnina\n",
      "grid_size: 24.0\n",
      "grid_spacing: 0.5\n",
      "how_many: 50\n",
      "init_type: normal\n",
      "input_nc: 6\n",
      "isTrain: False\n",
      "max_dataset_size: inf\n",
      "model: gnina\n",
      "nThreads: 16\n",
      "n_layers_D: 3\n",
      "name: experiment_name\n",
      "no_dropout: False\n",
      "norm: instance\n",
      "ntest: inf\n",
      "phase: test\n",
      "results_dir: ./results/\n",
      "rotate: 90\n",
      "rvdw: 1.4\n",
      "serial_batches: False\n",
      "which_epoch: latest\n",
      "-------------- End ----------------\n"
     ]
    }
   ],
   "source": [
    "import os   \n",
    "import sys\n",
    "sys.path.append('..')\n",
    "\n",
    "from options.test_options import TestOptions\n",
    "from data.data_loader import CreateDataLoader\n",
    "from models.models import create_model\n",
    "import numpy as np\n",
    "from tqdm import tqdm\n",
    "\n",
    "opt = TestOptions().parse(args=\"\"\"--dataroot /home/sunhwan/work/pdbbind/2018/refined-set \\\n",
    "                   --csvfile /home/sunhwan/work/pdbbind/deep/data/test.csv \\\n",
    "                   --gpu_ids 0 --batch_size 64 --nThreads 16 \\\n",
    "                   --model gnina --grid_method gnina --grid_size 24 --grid_spacing 0.5 \\\n",
    "                   --channels gnina\"\"\".split())\n",
    "opt.serial_batches = True  # no shuffle\n",
    "opt.no_flip = True  # no flip\n",
    "opt.checkpoints_dir = '../checkpoints'"
   ]
  },
  {
   "cell_type": "code",
   "execution_count": 2,
   "metadata": {},
   "outputs": [
    {
     "name": "stdout",
     "output_type": "stream",
     "text": [
      "CustomDatasetDataLoader\n",
      "dataset [PdbBindDataset] was created\n",
      "gnina\n",
      "initialization method [normal]\n",
      "---------- Networks initialized -------------\n",
      "GninaNetworkGenerator(\n",
      "  (model): Sequential(\n",
      "    (0): GninaBlock(\n",
      "      (pool): AdaptiveMaxPool3d(output_size=(24, 24, 24))\n",
      "      (conv): Conv3d(34, 32, kernel_size=(3, 3, 3), stride=(1, 1, 1), padding=(1, 1, 1))\n",
      "      (activation): ReLU(inplace)\n",
      "    )\n",
      "    (1): GninaBlock(\n",
      "      (pool): AdaptiveMaxPool3d(output_size=(12, 12, 12))\n",
      "      (conv): Conv3d(32, 64, kernel_size=(3, 3, 3), stride=(1, 1, 1), padding=(1, 1, 1))\n",
      "      (activation): ReLU(inplace)\n",
      "    )\n",
      "    (2): GninaBlock(\n",
      "      (pool): AdaptiveMaxPool3d(output_size=(6, 6, 6))\n",
      "      (conv): Conv3d(64, 128, kernel_size=(3, 3, 3), stride=(1, 1, 1), padding=(1, 1, 1))\n",
      "      (activation): ReLU(inplace)\n",
      "    )\n",
      "    (3): Flatten()\n",
      "    (4): Linear(in_features=27648, out_features=1, bias=True)\n",
      "  )\n",
      ")\n",
      "----------------------------------------------------------------\n",
      "        Layer (type)               Output Shape         Param #\n",
      "================================================================\n",
      " AdaptiveMaxPool3d-1       [-1, 34, 24, 24, 24]               0\n",
      "            Conv3d-2       [-1, 32, 24, 24, 24]          29,408\n",
      "              ReLU-3       [-1, 32, 24, 24, 24]               0\n",
      "        GninaBlock-4       [-1, 32, 24, 24, 24]               0\n",
      " AdaptiveMaxPool3d-5       [-1, 32, 12, 12, 12]               0\n",
      "            Conv3d-6       [-1, 64, 12, 12, 12]          55,360\n",
      "              ReLU-7       [-1, 64, 12, 12, 12]               0\n",
      "        GninaBlock-8       [-1, 64, 12, 12, 12]               0\n",
      " AdaptiveMaxPool3d-9          [-1, 64, 6, 6, 6]               0\n",
      "           Conv3d-10         [-1, 128, 6, 6, 6]         221,312\n",
      "             ReLU-11         [-1, 128, 6, 6, 6]               0\n",
      "       GninaBlock-12         [-1, 128, 6, 6, 6]               0\n",
      "          Flatten-13                [-1, 27648]               0\n",
      "           Linear-14                    [-1, 1]          27,649\n",
      "================================================================\n",
      "Total params: 333,729\n",
      "Trainable params: 333,729\n",
      "Non-trainable params: 0\n",
      "----------------------------------------------------------------\n",
      "Input size (MB): 14.34\n",
      "Forward/backward pass size (MB): 17.61\n",
      "Params size (MB): 1.27\n",
      "Estimated Total Size (MB): 33.23\n",
      "----------------------------------------------------------------\n",
      "None\n",
      "Total number of parameters: 333729\n",
      "-----------------------------------------------\n",
      "model [GninaModel] was created\n"
     ]
    }
   ],
   "source": [
    "data_loader = CreateDataLoader(opt)\n",
    "dataset = data_loader.load_data()\n",
    "model = create_model(opt)\n",
    "\n",
    "def correlation(Measure, Fit):\n",
    "    \"\"\"Calculates the correlation coefficient R^2 between the two sets\n",
    "       of Y data provided. Logically, in order for the result to have a sense\n",
    "       you want both Y arrays to have been created from the same X array.\"\"\" \n",
    "                    \n",
    "    Mean = np.mean(Measure)\n",
    "    s1 = 0          \n",
    "    s2 = 0          \n",
    "    Size = np.size(Measure) # identical to np.size(Fit)\n",
    "\n",
    "    for i in range(0, Size):\n",
    "        s1 += (Measure[i] - Fit[i]) ** 2\n",
    "        s2 += (Measure[i] - Mean) ** 2\n",
    "    Rsquare = 1 - s1/s2\n",
    "    return Rsquare \n",
    "                   \n",
    "# test\n"
   ]
  },
  {
   "cell_type": "code",
   "execution_count": 3,
   "metadata": {},
   "outputs": [
    {
     "name": "stderr",
     "output_type": "stream",
     "text": [
      "100%|██████████| 14/14 [00:50<00:00,  1.19it/s]\n"
     ]
    }
   ],
   "source": [
    "# test      \n",
    "preds = np.zeros(len(dataset))\n",
    "trues = np.zeros(len(dataset))\n",
    "with tqdm(total=int(len(dataset)/opt.batch_size)+1) as pbar:\n",
    "    for i, data in enumerate(dataset):\n",
    "        if i >= opt.how_many: break\n",
    "        model.set_input(data)\n",
    "        model.test()\n",
    "        offset = i * opt.batch_size\n",
    "        preds[offset:offset+opt.batch_size] = model.preds.cpu().detach().numpy().flatten()\n",
    "        trues[offset:offset+opt.batch_size] = data['affinity'].flatten()\n",
    "        pbar.update()\n"
   ]
  },
  {
   "cell_type": "code",
   "execution_count": 4,
   "metadata": {},
   "outputs": [
    {
     "name": "stdout",
     "output_type": "stream",
     "text": [
      "corr coef: 0.6455412218843131\n",
      "R2: 0.4135710508231544\n"
     ]
    }
   ],
   "source": [
    "print(\"corr coef:\", np.corrcoef(preds, trues)[0,1])\n",
    "print(\"R2:\", correlation(trues, preds))"
   ]
  },
  {
   "cell_type": "code",
   "execution_count": 5,
   "metadata": {},
   "outputs": [
    {
     "data": {
      "text/plain": [
       "0.41357105082315393"
      ]
     },
     "execution_count": 5,
     "metadata": {},
     "output_type": "execute_result"
    }
   ],
   "source": [
    "from sklearn.metrics import r2_score\n",
    "r2_score(trues, preds)"
   ]
  },
  {
   "cell_type": "code",
   "execution_count": 6,
   "metadata": {},
   "outputs": [],
   "source": [
    "%matplotlib inline\n",
    "%reload_ext autoreload\n",
    "%autoreload 2\n",
    "\n",
    "import matplotlib\n",
    "import numpy as np\n",
    "import matplotlib.pyplot as plt\n",
    "from pathlib import Path"
   ]
  },
  {
   "cell_type": "code",
   "execution_count": 7,
   "metadata": {},
   "outputs": [
    {
     "data": {
      "text/plain": [
       "Text(0.5, 0, '-Log10(Kd)')"
      ]
     },
     "execution_count": 7,
     "metadata": {},
     "output_type": "execute_result"
    },
    {
     "data": {
      "image/png": "[encoded data removed]",
      "text/plain": [
       "<Figure size 432x288 with 1 Axes>"
      ]
     },
     "metadata": {
      "needs_background": "light"
     },
     "output_type": "display_data"
    }
   ],
   "source": [
    "plt.scatter(trues, preds)\n",
    "plt.ylabel('Pred')\n",
    "plt.xlabel('-Log10(Kd)')"
   ]
  },
  {
   "cell_type": "code",
   "execution_count": null,
   "metadata": {},
   "outputs": [],
   "source": []
  }
 ],
 "metadata": {
  "kernelspec": {
   "display_name": "Python 3",
   "language": "python",
   "name": "python3"
  },
  "language_info": {
   "codemirror_mode": {
    "name": "ipython",
    "version": 3
   },
   "file_extension": ".py",
   "mimetype": "text/x-python",
   "name": "python",
   "nbconvert_exporter": "python",
   "pygments_lexer": "ipython3",
   "version": "3.6.8"
  }
 },
 "nbformat": 4,
 "nbformat_minor": 2
}
