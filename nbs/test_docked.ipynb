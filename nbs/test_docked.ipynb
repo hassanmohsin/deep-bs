{
 "cells": [
  {
   "cell_type": "code",
   "execution_count": 4,
   "metadata": {},
   "outputs": [
    {
     "name": "stdout",
     "output_type": "stream",
     "text": [
      "------------ Options -------------\n",
      "aspect_ratio: 1.0\n",
      "batch_size: 8\n",
      "channels: gnina\n",
      "checkpoints_dir: ./checkpoints\n",
      "csvfile: ../../../pdbbind/test.csv\n",
      "dataroot: /data/sunhwan/pdbbind/refinedset\n",
      "dataset_mode: pdbbind_docked\n",
      "filter_kd: False\n",
      "gpu_ids: [0]\n",
      "grid_method: gnina\n",
      "grid_size: 48.0\n",
      "grid_spacing: 0.5\n",
      "how_many: 50\n",
      "init_type: normal\n",
      "input_nc: 6\n",
      "isTrain: False\n",
      "max_dataset_size: inf\n",
      "model: gnina_pose\n",
      "nThreads: 8\n",
      "n_layers_D: 3\n",
      "name: experiment_name\n",
      "no_dropout: False\n",
      "norm: instance\n",
      "ntest: inf\n",
      "phase: test\n",
      "results_dir: ./results/\n",
      "rotate: 90\n",
      "rvdw: 1.4\n",
      "serial_batches: False\n",
      "which_epoch: latest\n",
      "-------------- End ----------------\n"
     ]
    }
   ],
   "source": [
    "import os   \n",
    "import sys\n",
    "sys.path.append('..')\n",
    "\n",
    "from options.test_options import TestOptions\n",
    "from data.data_loader import CreateDataLoader\n",
    "from models.models import create_model\n",
    "import numpy as np\n",
    "from tqdm import tqdm\n",
    "\n",
    "opt = TestOptions().parse(args=\"\"\"--dataroot /data/sunhwan/pdbbind/refinedset \\\n",
    "                   --csvfile ../../../pdbbind/test.csv \\\n",
    "                   --gpu_ids 0 --batch_size 8 --nThreads 8 \\\n",
    "                   --model gnina_pose --grid_method gnina --grid_size 48 --grid_spacing 0.5 \\\n",
    "                   --channels gnina --dataset_mode pdbbind_docked\"\"\".split())\n",
    "opt.serial_batches = True  # no shuffle\n",
    "opt.no_flip = True  # no flip\n",
    "opt.checkpoints_dir = '../checkpoints'"
   ]
  },
  {
   "cell_type": "code",
   "execution_count": 5,
   "metadata": {},
   "outputs": [
    {
     "name": "stdout",
     "output_type": "stream",
     "text": [
      "CustomDatasetDataLoader\n",
      "dataset [PdbBindDataset] was created\n",
      "gnina_pose\n",
      "initialization method [normal]\n",
      "---------- Networks initialized -------------\n",
      "-----------------------------------------------\n",
      "model [GninaPoseModel] was created\n"
     ]
    },
    {
     "name": "stderr",
     "output_type": "stream",
     "text": [
      "../models/networks.py:17: UserWarning: nn.init.normal is now deprecated in favor of nn.init.normal_.\n",
      "  init.normal(m.weight.data, 0.0, 0.02)\n",
      "../models/networks.py:19: UserWarning: nn.init.normal is now deprecated in favor of nn.init.normal_.\n",
      "  init.normal(m.weight.data, 0.0, 0.02)\n"
     ]
    }
   ],
   "source": [
    "data_loader = CreateDataLoader(opt)\n",
    "dataset = data_loader.load_data()\n",
    "model = create_model(opt)\n",
    "\n",
    "def correlation(Measure, Fit):\n",
    "    \"\"\"Calculates the correlation coefficient R^2 between the two sets\n",
    "       of Y data provided. Logically, in order for the result to have a sense\n",
    "       you want both Y arrays to have been created from the same X array.\"\"\" \n",
    "                    \n",
    "    Mean = np.mean(Measure)\n",
    "    s1 = 0          \n",
    "    s2 = 0          \n",
    "    Size = np.size(Measure) # identical to np.size(Fit)\n",
    "\n",
    "    for i in range(0, Size):\n",
    "        s1 += (Measure[i] - Fit[i]) ** 2\n",
    "        s2 += (Measure[i] - Mean) ** 2\n",
    "    Rsquare = 1 - s1/s2\n",
    "    return Rsquare \n",
    "                   \n",
    "# test\n"
   ]
  },
  {
   "cell_type": "code",
   "execution_count": null,
   "metadata": {},
   "outputs": [
    {
     "name": "stderr",
     "output_type": "stream",
     "text": [
      "  0%|          | 0/968 [00:00<?, ?it/s]/home/sunhwan/miniconda3/lib/python3.7/site-packages/torch/nn/modules/container.py:92: UserWarning: Implicit dimension choice for softmax has been deprecated. Change the call to include dim=X as an argument.\n",
      "  input = module(input)\n",
      "  2%|▏         | 16/968 [00:56<16:33,  1.04s/it]  "
     ]
    }
   ],
   "source": [
    "# test      \n",
    "preds_pose = np.zeros(len(dataset))\n",
    "trues_pose = np.zeros(len(dataset))\n",
    "preds_affinity = np.zeros(len(dataset))\n",
    "trues_affinity = np.zeros(len(dataset))\n",
    "with tqdm(total=int(len(dataset)/opt.batch_size)+1) as pbar:\n",
    "    for i, data in enumerate(dataset):\n",
    "        model.set_input(data)\n",
    "        model.test()\n",
    "        offset = i * opt.batch_size\n",
    "        preds_pose[offset:offset+opt.batch_size] = model.preds_pose.cpu().detach().numpy().flatten()\n",
    "        trues_pose[offset:offset+opt.batch_size] = data['pose'].flatten()\n",
    "        preds_affinity[offset:offset+opt.batch_size] = model.preds_affinity.cpu().detach().numpy().flatten()\n",
    "        trues_affinity[offset:offset+opt.batch_size] = data['affinity'].flatten()\n",
    "        pbar.update()\n"
   ]
  },
  {
   "cell_type": "code",
   "execution_count": 25,
   "metadata": {},
   "outputs": [],
   "source": [
    "import torch"
   ]
  },
  {
   "cell_type": "code",
   "execution_count": 26,
   "metadata": {},
   "outputs": [],
   "source": [
    "loss = torch.nn.SmoothL1Loss()"
   ]
  },
  {
   "cell_type": "code",
   "execution_count": null,
   "metadata": {},
   "outputs": [],
   "source": [
    "loss(model.preds_)"
   ]
  },
  {
   "cell_type": "code",
   "execution_count": 11,
   "metadata": {},
   "outputs": [],
   "source": [
    "%matplotlib inline\n",
    "%reload_ext autoreload\n",
    "%autoreload 2\n",
    "\n",
    "import matplotlib\n",
    "import matplotlib.pyplot as plt\n",
    "import numpy as np\n",
    "import pandas as pd\n",
    "from pathlib import Path"
   ]
  },
  {
   "cell_type": "code",
   "execution_count": 20,
   "metadata": {},
   "outputs": [
    {
     "name": "stdout",
     "output_type": "stream",
     "text": [
      "corr coef: 0.6125195899891804\n",
      "R2: 0.18464714823746664\n"
     ]
    }
   ],
   "source": [
    "mask = np.where(trues_pose)\n",
    "print(\"corr coef:\", np.corrcoef(preds_affinity[mask], trues_affinity[mask])[0,1])\n",
    "print(\"R2:\", correlation(trues_affinity[mask], preds_affinity[mask]))"
   ]
  },
  {
   "cell_type": "code",
   "execution_count": 9,
   "metadata": {},
   "outputs": [
    {
     "name": "stdout",
     "output_type": "stream",
     "text": [
      "corr coef: 0.9487446395695261\n",
      "R2: 0.8970751196638945\n"
     ]
    }
   ],
   "source": [
    "print(\"corr coef:\", np.corrcoef(preds_pose, trues_pose)[0,1])\n",
    "print(\"R2:\", correlation(trues_pose, preds_pose))"
   ]
  },
  {
   "cell_type": "code",
   "execution_count": 10,
   "metadata": {},
   "outputs": [],
   "source": [
    "%matplotlib inline\n",
    "%reload_ext autoreload\n",
    "%autoreload 2\n",
    "\n",
    "import matplotlib\n",
    "import numpy as np\n",
    "import matplotlib.pyplot as plt\n",
    "from pathlib import Path"
   ]
  },
  {
   "cell_type": "code",
   "execution_count": 19,
   "metadata": {},
   "outputs": [
    {
     "data": {
      "text/plain": [
       "Text(0.5, 0, '-Log10(Kd)')"
      ]
     },
     "execution_count": 19,
     "metadata": {},
     "output_type": "execute_result"
    },
    {
     "data": {
      "image/png": "[encoded data removed]",
      "text/plain": [
       "<Figure size 432x288 with 1 Axes>"
      ]
     },
     "metadata": {
      "needs_background": "light"
     },
     "output_type": "display_data"
    }
   ],
   "source": [
    "plt.scatter(trues_affinity[mask], preds_affinity[mask])\n",
    "plt.ylabel('Pred')\n",
    "plt.xlabel('-Log10(Kd)')"
   ]
  },
  {
   "cell_type": "code",
   "execution_count": 23,
   "metadata": {},
   "outputs": [],
   "source": [
    "from sklearn.metrics import roc_curve, roc_auc_score"
   ]
  },
  {
   "cell_type": "code",
   "execution_count": 24,
   "metadata": {},
   "outputs": [
    {
     "name": "stdout",
     "output_type": "stream",
     "text": [
      "0.9953198180528314\n"
     ]
    }
   ],
   "source": [
    "fpr, tpr, threshold = roc_curve(trues_pose, preds_pose)\n",
    "score = roc_auc_score(trues_pose, preds_pose)\n",
    "print(score)"
   ]
  },
  {
   "cell_type": "code",
   "execution_count": 16,
   "metadata": {},
   "outputs": [
    {
     "data": {
      "text/plain": [
       "[<matplotlib.lines.Line2D at 0x7f2f570924a8>]"
      ]
     },
     "execution_count": 16,
     "metadata": {},
     "output_type": "execute_result"
    },
    {
     "data": {
      "image/png": "[encoded data removed]",
      "text/plain": [
       "<Figure size 432x288 with 1 Axes>"
      ]
     },
     "metadata": {
      "needs_background": "light"
     },
     "output_type": "display_data"
    }
   ],
   "source": [
    "plt.plot(fpr, tpr)"
   ]
  },
  {
   "cell_type": "code",
   "execution_count": 2,
   "metadata": {},
   "outputs": [],
   "source": [
    "import pandas as pd\n",
    "csvfile = '../jak2-test/output.csv'\n",
    "output = pd.read_csv(csvfile)"
   ]
  },
  {
   "cell_type": "code",
   "execution_count": 3,
   "metadata": {},
   "outputs": [
    {
     "data": {
      "text/html": [
       "<div>\n",
       "<style scoped>\n",
       "    .dataframe tbody tr th:only-of-type {\n",
       "        vertical-align: middle;\n",
       "    }\n",
       "\n",
       "    .dataframe tbody tr th {\n",
       "        vertical-align: top;\n",
       "    }\n",
       "\n",
       "    .dataframe thead th {\n",
       "        text-align: right;\n",
       "    }\n",
       "</style>\n",
       "<table border=\"1\" class=\"dataframe\">\n",
       "  <thead>\n",
       "    <tr style=\"text-align: right;\">\n",
       "      <th></th>\n",
       "      <th>true</th>\n",
       "      <th>pred</th>\n",
       "    </tr>\n",
       "  </thead>\n",
       "  <tbody>\n",
       "    <tr>\n",
       "      <th>0</th>\n",
       "      <td>3.960000</td>\n",
       "      <td>6.885036</td>\n",
       "    </tr>\n",
       "    <tr>\n",
       "      <th>1</th>\n",
       "      <td>7.447650</td>\n",
       "      <td>7.869942</td>\n",
       "    </tr>\n",
       "    <tr>\n",
       "      <th>2</th>\n",
       "      <td>6.087254</td>\n",
       "      <td>9.412878</td>\n",
       "    </tr>\n",
       "    <tr>\n",
       "      <th>3</th>\n",
       "      <td>7.142523</td>\n",
       "      <td>8.996725</td>\n",
       "    </tr>\n",
       "    <tr>\n",
       "      <th>4</th>\n",
       "      <td>7.477314</td>\n",
       "      <td>6.976058</td>\n",
       "    </tr>\n",
       "  </tbody>\n",
       "</table>\n",
       "</div>"
      ],
      "text/plain": [
       "       true      pred\n",
       "0  3.960000  6.885036\n",
       "1  7.447650  7.869942\n",
       "2  6.087254  9.412878\n",
       "3  7.142523  8.996725\n",
       "4  7.477314  6.976058"
      ]
     },
     "execution_count": 3,
     "metadata": {},
     "output_type": "execute_result"
    }
   ],
   "source": [
    "output.head()"
   ]
  },
  {
   "cell_type": "code",
   "execution_count": 5,
   "metadata": {},
   "outputs": [],
   "source": [
    "%matplotlib inline\n",
    "%reload_ext autoreload\n",
    "%autoreload 2\n",
    "\n",
    "import matplotlib\n",
    "import matplotlib.pyplot as plt\n",
    "import numpy as np\n",
    "import pandas as pd\n",
    "from pathlib import Path"
   ]
  },
  {
   "cell_type": "code",
   "execution_count": 6,
   "metadata": {},
   "outputs": [
    {
     "data": {
      "text/plain": [
       "<matplotlib.collections.PathCollection at 0x7f33c0e4b0b8>"
      ]
     },
     "execution_count": 6,
     "metadata": {},
     "output_type": "execute_result"
    },
    {
     "data": {
      "image/png": "[encoded data removed]",
      "text/plain": [
       "<Figure size 432x288 with 1 Axes>"
      ]
     },
     "metadata": {
      "needs_background": "light"
     },
     "output_type": "display_data"
    }
   ],
   "source": [
    "plt.scatter(output.true, output.pred)"
   ]
  },
  {
   "cell_type": "code",
   "execution_count": null,
   "metadata": {},
   "outputs": [],
   "source": []
  }
 ],
 "metadata": {
  "kernelspec": {
   "display_name": "Python 3",
   "language": "python",
   "name": "python3"
  },
  "language_info": {
   "codemirror_mode": {
    "name": "ipython",
    "version": 3
   },
   "file_extension": ".py",
   "mimetype": "text/x-python",
   "name": "python",
   "nbconvert_exporter": "python",
   "pygments_lexer": "ipython3",
   "version": "3.7.1"
  }
 },
 "nbformat": 4,
 "nbformat_minor": 2
}
