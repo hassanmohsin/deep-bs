{
 "cells": [
  {
   "cell_type": "code",
   "execution_count": 1,
   "metadata": {},
   "outputs": [],
   "source": [
    "%matplotlib inline\n",
    "\n",
    "import matplotlib\n",
    "import numpy as np\n",
    "import matplotlib.pyplot as plt\n",
    "import pandas as pd\n",
    "from pathlib import Path"
   ]
  },
  {
   "cell_type": "code",
   "execution_count": 2,
   "metadata": {},
   "outputs": [],
   "source": [
    "path = Path('../data')"
   ]
  },
  {
   "cell_type": "code",
   "execution_count": 3,
   "metadata": {},
   "outputs": [],
   "source": [
    "import torch\n",
    "from torch.utils.data import Dataset, DataLoader\n",
    "from torchvision import transforms\n",
    "import griddata\n",
    "from griddata.grid import Grid\n",
    "import numba\n",
    "from math import exp, sqrt, cos, sin"
   ]
  },
  {
   "cell_type": "code",
   "execution_count": 4,
   "metadata": {},
   "outputs": [],
   "source": [
    "class GridPDB:\n",
    "    def __init__(self, file):\n",
    "        if file.endswith('pdb'):\n",
    "            self.pdbfile = file\n",
    "            self.parse_pdb()\n",
    "        if file.endswith('mol2'):\n",
    "            self.mol2file = file\n",
    "            self.parse_mol2()\n",
    "        \n",
    "    def parse_mol2(self):\n",
    "        self.atoms = []\n",
    "        self.atomtypes = []\n",
    "        self.coords = []\n",
    "        flag = False\n",
    "        for line in open(self.mol2file):\n",
    "            if line.startswith(\"@<TRIPOS>ATOM\"):\n",
    "                flag = True\n",
    "                continue\n",
    "            if line.startswith(\"@<TRIPOS>BOND\"):\n",
    "                break\n",
    "            if flag:\n",
    "                name = line[8:16].strip()\n",
    "                if name[0] == 'H': continue\n",
    "                    \n",
    "                x = line[16:26]\n",
    "                y = line[26:36]\n",
    "                z = line[36:46]\n",
    "                self.atoms.append(name)\n",
    "                self.atomtypes.append(name[0])\n",
    "                self.coords.append(list(map(float, (x, y, z))))\n",
    "                \n",
    "        self.atoms = np.array(self.atoms)\n",
    "        self.atomtypes = np.array(self.atomtypes)\n",
    "        self.coords = np.array(self.coords, dtype=np.float32)\n",
    "        self.center = np.average(self.coords, axis=0)\n",
    "    \n",
    "    def parse_pdb(self):\n",
    "        self.atoms = []\n",
    "        self.atomtypes = []\n",
    "        self.coords = []\n",
    "        for line in open(self.pdbfile):\n",
    "            if line.startswith(\"ATOM\"):\n",
    "                name = line[11:17].strip()\n",
    "                if name[0] == 'H': continue\n",
    "                if name[0].isdigit(): continue\n",
    "                    \n",
    "                x = line[30:38]\n",
    "                y = line[38:46]\n",
    "                z = line[46:54]\n",
    "                self.atoms.append(name)\n",
    "                self.atomtypes.append(name[0])\n",
    "                self.coords.append(list(map(float, (x, y, z))))\n",
    "                \n",
    "        self.atoms = np.array(self.atoms)\n",
    "        self.atomtypes = np.array(self.atomtypes)\n",
    "        self.coords = np.array(self.coords, dtype=np.float32)\n",
    "        self.center = np.average(self.coords, axis=0)\n",
    "    \n",
    "    def compute_grid(self, size=20, spacing=1.0):\n",
    "        nx, ny, nz = [int(size/spacing)+1 for _ in range(3)]\n",
    "        xmin, ymin, zmin = [_-int(size/2) for _ in pdb.center]\n",
    "        grid = np.zeros((nx, ny, nz), dtype=np.float32)\n",
    "        self.ndelements = coords_to_grid_numba(self.coords, grid, nx, ny, nz, xmin, ymin, zmin, spacing)\n",
    "    \n",
    "    def save_grid(self, filename):\n",
    "        g = Grid()\n",
    "        g.n_elements = np.cumprod(self.elements.shape)\n",
    "        g.center = list(self.center)\n",
    "        g.shape = self.elements.shape\n",
    "        g.spacing = (self.spacing, self.spacing, self.spacing)\n",
    "        g.set_elements(self.ndelements.flatten())\n",
    "        griddata.save(g, open(filename, 'w'), format='dx')"
   ]
  },
  {
   "cell_type": "code",
   "execution_count": 5,
   "metadata": {
    "scrolled": false
   },
   "outputs": [],
   "source": [
    "def coords_to_grid_np(coords, grid, nx, ny, nz, xmin, ymin, zmin, spacing, rvdw):\n",
    "    assert grid.shape == (nx, ny, nz)\n",
    "    ncoords = len(coords)\n",
    "    X,Y,Z = np.mgrid[xmin:xmin+nx*spacing:spacing, \n",
    "                     ymin:ymin+ny*spacing:spacing,\n",
    "                     zmin:zmin+nz*spacing:spacing]\n",
    "\n",
    "    xyz = np.vstack((X.flatten(), Y.flatten(), Z.flatten())).T\n",
    "    for i in range(ncoords):\n",
    "        r = np.linalg.norm(xyz - (coords[i]), axis=1).reshape((nx, ny, nz))\n",
    "        grid += 1 - np.exp(-(rvdw/r)**12)\n",
    "    return grid"
   ]
  },
  {
   "cell_type": "code",
   "execution_count": 121,
   "metadata": {
    "scrolled": false
   },
   "outputs": [],
   "source": [
    "@numba.jit('f4[:,:,:](f4[:,:], f4[:,:,:], i8, i8, i8, f8, f8, f8, f8, f8)', nopython=True)\n",
    "def coords_to_grid_numba(coords, grid, nx, ny, nz, xmin, ymin, zmin, spacing, rvdw):\n",
    "    exps = 0.001\n",
    "    rmax = 30\n",
    "    expt = np.exp(-(rvdw/np.arange(0,rmax,exps))**12)\n",
    "    nc = len(coords)\n",
    "    for i in range(nx):\n",
    "        ix = xmin + i*spacing\n",
    "        for j in range(ny):\n",
    "            iy = ymin + j*spacing\n",
    "            for k in range(nz):\n",
    "                iz = zmin + k*spacing\n",
    "                for l in range(nc):\n",
    "                    dx = ix - coords[l,0]\n",
    "                    dy = iy - coords[l,1]\n",
    "                    dz = iz - coords[l,2]\n",
    "                    r = sqrt(dx*dx + dy*dy + dz*dz)\n",
    "                    #grid[i,j,k] += 1 - exp(-(rvdw/r)**12)\n",
    "                    if r > rmax: continue\n",
    "                    grid[i,j,k] += 1 - expt[int(r/exps)]\n",
    "    return grid"
   ]
  },
  {
   "cell_type": "code",
   "execution_count": 122,
   "metadata": {
    "scrolled": false
   },
   "outputs": [
    {
     "name": "stdout",
     "output_type": "stream",
     "text": [
      "29.3 ms ± 2.51 ms per loop (mean ± std. dev. of 7 runs, 10 loops each)\n"
     ]
    }
   ],
   "source": [
    "pdb = GridPDB('../../../2018/refined-set/10gs/10gs_pocket.pdb')\n",
    "size = 20\n",
    "rvdw = 1.4\n",
    "spacing = 1.0\n",
    "nx, ny, nz = [int(size/spacing)+1 for _ in range(3)]\n",
    "xmin, ymin, zmin = [_-int(size/2) for _ in pdb.center]\n",
    "grid = np.zeros((nx, ny, nz), dtype=np.float32)\n",
    "%timeit coords_to_grid_numba(pdb.coords, grid, nx, ny, nz, xmin, ymin, zmin, spacing, rvdw)"
   ]
  },
  {
   "cell_type": "code",
   "execution_count": 117,
   "metadata": {},
   "outputs": [
    {
     "name": "stdout",
     "output_type": "stream",
     "text": [
      "345 ms ± 14.3 ms per loop (mean ± std. dev. of 7 runs, 1 loop each)\n"
     ]
    }
   ],
   "source": [
    "pdb = GridPDB('../../../2018/refined-set/10gs/10gs_pocket.pdb')\n",
    "size = 20\n",
    "spacing = 1.0\n",
    "rvdw = 1.4\n",
    "nx, ny, nz = [int(size/spacing)+1 for _ in range(3)]\n",
    "xmin, ymin, zmin = [_-int(size/2) for _ in pdb.center]\n",
    "grid = np.zeros((nx, ny, nz), dtype=np.float32)\n",
    "%timeit coords_to_grid_np(pdb.coords, grid, nx, ny, nz, xmin, ymin, zmin, spacing, rvdw)"
   ]
  },
  {
   "cell_type": "code",
   "execution_count": 123,
   "metadata": {},
   "outputs": [],
   "source": [
    "grid = np.zeros((nx, ny, nz), dtype=np.float32)\n",
    "grid1 = coords_to_grid_numba(pdb.coords, grid, nx, ny, nz, xmin, ymin, zmin, spacing, rvdw)\n",
    "grid = np.zeros((nx, ny, nz), dtype=np.float32)\n",
    "grid2 = coords_to_grid_np(pdb.coords, grid, nx, ny, nz, xmin, ymin, zmin, spacing, rvdw)"
   ]
  },
  {
   "cell_type": "code",
   "execution_count": 126,
   "metadata": {},
   "outputs": [
    {
     "data": {
      "text/plain": [
       "array([[[  8.47720439e-05,   1.05965046e-04,   4.41204465e-05, ...,\n",
       "           5.44053762e-07,   1.26176860e-06,   7.78798858e-06],\n",
       "        [  6.54129311e-04,   8.96209094e-04,   2.86681083e-04, ...,\n",
       "           5.84005465e-06,   9.77592663e-06,   4.39566466e-05],\n",
       "        [  1.57928886e-03,   2.78580957e-03,   1.80941517e-03, ...,\n",
       "           1.61369229e-04,   2.89633434e-04,   2.19976049e-04],\n",
       "        ..., \n",
       "        [  1.03132258e-07,   1.39413302e-07,   1.88481494e-07, ...,\n",
       "           1.30732979e-05,   4.44853686e-06,   1.34741424e-06],\n",
       "        [  3.96200221e-07,   4.81297945e-07,   6.02961109e-07, ...,\n",
       "           3.73741500e-06,   1.52943824e-06,   5.03256842e-07],\n",
       "        [  1.71884722e-06,   1.61948117e-06,   1.69106067e-06, ...,\n",
       "           8.00277007e-07,   3.95969323e-07,   1.60187739e-07]],\n",
       "\n",
       "       [[  1.67078874e-03,   2.37828190e-03,   4.83293523e-04, ...,\n",
       "           6.20913909e-07,   1.41529472e-06,   9.44735802e-06],\n",
       "        [  7.64495656e-02,   1.47052869e-01,   8.75425804e-03, ...,\n",
       "           4.63158403e-06,   8.32062233e-06,   5.46594056e-05],\n",
       "        [  3.31287205e-01,   6.37150228e-01,   3.76763903e-02, ...,\n",
       "           8.65571783e-05,   1.43065830e-04,   1.98664871e-04],\n",
       "        ..., \n",
       "        [  3.52317386e-07,   5.51283279e-07,   8.76081288e-07, ...,\n",
       "           3.13580589e-04,   6.02289583e-05,   7.88634679e-06],\n",
       "        [  1.81487871e-06,   2.66930442e-06,   4.17430010e-06, ...,\n",
       "           4.09827444e-05,   1.20832683e-05,   2.45211845e-06],\n",
       "        [  1.10039973e-05,   1.27633630e-05,   1.75843252e-05, ...,\n",
       "           4.44667330e-06,   1.85877389e-06,   5.80790356e-07]],\n",
       "\n",
       "       [[  1.40142757e-02,   2.30785068e-02,   2.48961058e-03, ...,\n",
       "           1.40284476e-06,   1.60322986e-06,   6.11043379e-06],\n",
       "        [  1.00061047e+00,   1.00170040e+00,   1.55121371e-01, ...,\n",
       "           4.17819319e-06,   6.50814263e-06,   3.02747721e-05],\n",
       "        [  1.03665626e+00,   1.27864003e+00,   7.38569438e-01, ...,\n",
       "           2.96461894e-05,   5.11214821e-05,   1.16912393e-04],\n",
       "        ..., \n",
       "        [  1.13866088e-06,   2.12549935e-06,   4.13347971e-06, ...,\n",
       "           1.90485381e-02,   1.07523391e-03,   5.21696747e-05],\n",
       "        [  8.64656067e-06,   1.65010515e-05,   3.67848843e-05, ...,\n",
       "           5.10477810e-04,   9.15606652e-05,   1.11894642e-05],\n",
       "        [  9.16447680e-05,   1.40655713e-04,   3.41570354e-04, ...,\n",
       "           2.10783019e-05,   7.40553287e-06,   1.87715182e-06]],\n",
       "\n",
       "       ..., \n",
       "       [[  1.69265659e-05,   8.36666095e-06,   3.00546594e-06, ...,\n",
       "           3.06003178e-09,   1.80487358e-09,   1.10895981e-09],\n",
       "        [  5.25683805e-04,   1.41000433e-04,   2.99524982e-05, ...,\n",
       "           5.99714323e-09,   3.45684281e-09,   2.06122053e-09],\n",
       "        [  5.30788600e-02,   3.79084027e-03,   3.84967570e-04, ...,\n",
       "           1.22841106e-08,   6.94699942e-09,   3.97276434e-09],\n",
       "        ..., \n",
       "        [  3.80138590e-05,   2.76501128e-03,   9.33682382e-01, ...,\n",
       "           1.04828726e-03,   1.05003404e-04,   2.30803089e-05],\n",
       "        [  2.39736928e-05,   9.38300276e-04,   1.33088291e-01, ...,\n",
       "           3.60639737e-04,   4.12299742e-05,   8.11045356e-06],\n",
       "        [  1.00922271e-05,   1.12819223e-04,   2.26826686e-03, ...,\n",
       "           4.51799933e-05,   8.83406483e-06,   2.08116421e-06]],\n",
       "\n",
       "       [[  1.24861735e-05,   9.25848417e-06,   4.42149758e-06, ...,\n",
       "           1.82396198e-09,   9.82525949e-10,   5.78204928e-10],\n",
       "        [  2.91450269e-04,   1.97218775e-04,   6.87132488e-05, ...,\n",
       "           3.37817685e-09,   1.74811821e-09,   1.00047171e-09],\n",
       "        [  1.80817936e-02,   1.05027761e-02,   1.85729843e-03, ...,\n",
       "           6.33404085e-09,   3.18220206e-09,   1.77258896e-09],\n",
       "        ..., \n",
       "        [  2.16039152e-05,   9.43809631e-04,   1.38386875e-01, ...,\n",
       "           3.56481360e-05,   8.25852021e-06,   2.78963398e-06],\n",
       "        [  1.33876265e-05,   3.77159071e-04,   2.05858015e-02, ...,\n",
       "           1.90735755e-05,   4.50733978e-06,   1.23587097e-06],\n",
       "        [  4.51241658e-06,   5.28441851e-05,   6.68156252e-04, ...,\n",
       "           5.26116537e-06,   1.54805593e-06,   4.64935141e-07]],\n",
       "\n",
       "       [[  9.88148531e-06,   1.05527733e-05,   5.64085803e-06, ...,\n",
       "           1.25570454e-09,   6.10476780e-10,   3.36017991e-10],\n",
       "        [  2.73967540e-04,   3.83484119e-04,   1.33714697e-04, ...,\n",
       "           2.26199726e-09,   1.03667153e-09,   5.51728996e-10],\n",
       "        [  2.87062861e-02,   7.97366649e-02,   8.11499543e-03, ...,\n",
       "           4.05683842e-09,   1.77186266e-09,   9.20274856e-10],\n",
       "        ..., \n",
       "        [  5.64512038e-06,   9.05968045e-05,   1.63957546e-03, ...,\n",
       "           2.51188453e-06,   9.81072844e-07,   4.72774133e-07],\n",
       "        [  3.82216467e-06,   4.80996023e-05,   6.01450796e-04, ...,\n",
       "           1.70817714e-06,   6.17548778e-07,   2.37558339e-07],\n",
       "        [  1.51943971e-06,   1.13719780e-05,   7.28567247e-05, ...,\n",
       "           8.42090344e-07,   2.96625274e-07,   1.12281811e-07]]], dtype=float32)"
      ]
     },
     "execution_count": 126,
     "metadata": {},
     "output_type": "execute_result"
    }
   ],
   "source": [
    "grid1"
   ]
  },
  {
   "cell_type": "code",
   "execution_count": 125,
   "metadata": {},
   "outputs": [
    {
     "data": {
      "text/plain": [
       "3.6914661"
      ]
     },
     "execution_count": 125,
     "metadata": {},
     "output_type": "execute_result"
    }
   ],
   "source": [
    "np.sum(grid1 - grid2)"
   ]
  },
  {
   "cell_type": "code",
   "execution_count": 314,
   "metadata": {},
   "outputs": [],
   "source": [
    "class PdbBindDataset(Dataset):\n",
    "    def __init__(self, csvfile, rootdir, transform=None, filter_kd=False):\n",
    "        self.df = pd.read_csv(csvfile)\n",
    "        self.rootdir = rootdir\n",
    "        self.transform = transform\n",
    "        if filter_kd:\n",
    "            self.df = self.df[self.df.afftype == 'Kd']\n",
    "    \n",
    "    def __len__(self):\n",
    "        return len(self.df)\n",
    "\n",
    "    def __getitem__(self, index):\n",
    "        row = self.df.iloc[index]\n",
    "        pdbfile = '{}/{}/{}_protein.pdb'.format(self.rootdir, row.code, row.code)\n",
    "        pocketfile = '{}/{}/{}_pocket.pdb'.format(self.rootdir, row.code, row.code)\n",
    "        ligandfile = '{}/{}/{}_ligand.mol2'.format(self.rootdir, row.code, row.code)\n",
    "        sample = {\n",
    "            'code': row.code,\n",
    "            'pdbfile': pdbfile,\n",
    "            'pocket': GridPDB(pocketfile),\n",
    "            'ligand': GridPDB(ligandfile),\n",
    "            'channels': [],\n",
    "            'affinity': row.affinity\n",
    "        }\n",
    "        if self.transform:\n",
    "            sample = self.transform(sample)\n",
    "        return sample"
   ]
  },
  {
   "cell_type": "code",
   "execution_count": 279,
   "metadata": {},
   "outputs": [],
   "source": []
  },
  {
   "cell_type": "code",
   "execution_count": 335,
   "metadata": {
    "scrolled": false
   },
   "outputs": [],
   "source": [
    "class Channel:\n",
    "    \"\"\"Convert atomic coordinates into grid (channel)\n",
    "    \n",
    "    Args:\n",
    "        atomtypes: list of atom types to convert into grid\n",
    "        size: size of grid in angstrom\n",
    "        spacing: grid spacing in angstrom\n",
    "        rvdw: r_vdw parameter in grid\n",
    "    \"\"\"\n",
    "    def __init__(self, atomtypes, size, spacing, rvdw):\n",
    "        self.atomtypes = atomtypes\n",
    "        self.size = size\n",
    "        self.spacing = spacing\n",
    "        self.rvdw = rvdw\n",
    "    \n",
    "    def __call__(self, sample):\n",
    "        size = float(self.size)\n",
    "        spacing = float(self.spacing)\n",
    "        rvdw = float(self.rvdw)\n",
    "        nx, ny, nz = [int(size/spacing)+1 for _ in range(3)]\n",
    "        xmin, ymin, zmin = [_-size/2 for _ in sample['pocket'].center]\n",
    "        idx = [_ in self.atomtypes for _ in sample['pocket'].atomtypes]\n",
    "        grid = np.zeros((nx, ny, nz), dtype=np.float32)\n",
    "        grid = coords_to_grid_numba(sample['pocket'].coords[idx], grid, \n",
    "                                    nx, ny, nz, xmin, ymin, zmin, spacing, rvdw)\n",
    "        sample['channels'].append(grid)\n",
    "        \n",
    "        idx = [_ in self.atomtypes for _ in sample['ligand'].atomtypes]\n",
    "        grid = np.zeros((nx, ny, nz), dtype=np.float32)\n",
    "        grid = coords_to_grid_numba(sample['ligand'].coords[idx], grid, \n",
    "                                    nx, ny, nz, xmin, ymin, zmin, self.spacing, self.rvdw)\n",
    "        sample['channels'].append(grid)\n",
    "        return sample\n",
    "\n",
    "class Rotate:\n",
    "    \"\"\"Rotate input structure\n",
    "    \n",
    "    Args:\n",
    "        degree: maximum degree to rotate (+/-)\n",
    "    \"\"\"\n",
    "    def __init__(self, degree):\n",
    "        self.degree = degree\n",
    "    \n",
    "    def __call__(self, sample):\n",
    "        theta = (np.random.random_sample(3,) - 0.5)*self.degree/180*np.pi\n",
    "        rx = np.matrix((( 1,             0,              0),\n",
    "                        ( 0, cos(theta[0]), -sin(theta[0])),\n",
    "                        ( 0, sin(theta[0]),  cos(theta[0]))))\n",
    "        ry = np.matrix((( cos(theta[1]), 0, sin(theta[1])),\n",
    "                        (             0, 1,             0),\n",
    "                        (-sin(theta[1]), 0, cos(theta[1]))))\n",
    "        rz = np.matrix((( cos(theta[2]), -sin(theta[2]), 0),\n",
    "                        ( sin(theta[2]),  cos(theta[2]), 0),\n",
    "                        (             0,              0, 1)))\n",
    "        r = rx * ry * rz\n",
    "        sample['pocket'].coords = np.array(np.dot(r, (sample['pocket'].coords).T).T, dtype=np.float32)\n",
    "        sample['ligand'].coords = np.array(np.dot(r, (sample['ligand'].coords).T).T, dtype=np.float32)\n",
    "        return sample\n",
    "    \n",
    "class Center:\n",
    "    \"\"\"Center input structure\"\"\"\n",
    "    def __call__(self, sample):\n",
    "        com = sample['pocket'].center\n",
    "        sample['pocket'].coords = sample['pocket'].coords - com\n",
    "        sample['ligand'].coords = sample['ligand'].coords - com\n",
    "        return sample\n",
    "    \n",
    "class ToTensor(object):\n",
    "    \"\"\"Convert ndarrays in sample to Tensors.\"\"\"\n",
    "\n",
    "    def __call__(self, sample):\n",
    "        grids = np.vstack([c[np.newaxis,:] for c in sample['channels']])\n",
    "        return {\n",
    "            'grids': torch.from_numpy(grids),\n",
    "            'affinity': torch.from_numpy(np.array([sample['affinity']]))\n",
    "        }"
   ]
  },
  {
   "cell_type": "code",
   "execution_count": 336,
   "metadata": {},
   "outputs": [],
   "source": [
    "rotate = Rotate(90)\n",
    "channel_c = Channel(['C'], 20, 1.0, 1.4)\n",
    "channel_o = Channel(['O'], 20, 1.0, 1.4)\n",
    "channel_n = Channel(['N'], 20, 1.0, 1.4)\n",
    "composed = transforms.Compose([Center(),\n",
    "                               rotate,\n",
    "                               channel_c,\n",
    "                               channel_o,\n",
    "                               channel_n,\n",
    "                               ToTensor()])"
   ]
  },
  {
   "cell_type": "code",
   "execution_count": 339,
   "metadata": {
    "scrolled": true
   },
   "outputs": [],
   "source": [
    "pdbbind_dataset = PdbBindDataset(csvfile=path/'refined_set.csv',\n",
    "                                 rootdir='../../2018/refined-set/',\n",
    "                                 filter_kd=True)\n",
    "sample = pdbbind_dataset[0]"
   ]
  },
  {
   "cell_type": "code",
   "execution_count": 310,
   "metadata": {},
   "outputs": [
    {
     "name": "stdout",
     "output_type": "stream",
     "text": [
      "../../2018/refined-set//2tpi/2tpi_protein.pdb\n"
     ]
    }
   ],
   "source": [
    "# test\n",
    "print(sample['pdbfile'])\n",
    "rotated = rotate(sample)['pocket'].coords\n",
    "with open('test.pdb', 'w') as f:\n",
    "    for c in rotated:\n",
    "        f.write(\"%8.3f%8.3f%8.3f\\n\" % (c[0], c[1], c[2]))"
   ]
  },
  {
   "cell_type": "code",
   "execution_count": 340,
   "metadata": {},
   "outputs": [],
   "source": [
    "assert len(composed(sample)['grids'].shape) == 4"
   ]
  },
  {
   "cell_type": "code",
   "execution_count": 341,
   "metadata": {},
   "outputs": [],
   "source": [
    "tfms = transforms.Compose([Center(),\n",
    "                           rotate,\n",
    "                           channel_c,\n",
    "                           channel_o,\n",
    "                           channel_n,\n",
    "                           ToTensor()])\n",
    "ds = PdbBindDataset(csvfile=path/'refined_set.csv',\n",
    "                    rootdir='../../2018/refined-set/',\n",
    "                    filter_kd=True,\n",
    "                    transform=tfms)"
   ]
  },
  {
   "cell_type": "code",
   "execution_count": 342,
   "metadata": {},
   "outputs": [],
   "source": [
    "dataloader = DataLoader(ds, batch_size=4,\n",
    "                        shuffle=True, num_workers=0)"
   ]
  },
  {
   "cell_type": "raw",
   "metadata": {
    "scrolled": false
   },
   "source": [
    "for i_batch, sample_batched in enumerate(dataloader):\n",
    "    break"
   ]
  },
  {
   "cell_type": "code",
   "execution_count": null,
   "metadata": {},
   "outputs": [],
   "source": []
  }
 ],
 "metadata": {
  "kernelspec": {
   "display_name": "Python 3",
   "language": "python",
   "name": "python3"
  },
  "language_info": {
   "codemirror_mode": {
    "name": "ipython",
    "version": 3
   },
   "file_extension": ".py",
   "mimetype": "text/x-python",
   "name": "python",
   "nbconvert_exporter": "python",
   "pygments_lexer": "ipython3",
   "version": "3.6.6"
  }
 },
 "nbformat": 4,
 "nbformat_minor": 2
}
