{
 "cells": [
  {
   "cell_type": "code",
   "execution_count": 1,
   "metadata": {},
   "outputs": [],
   "source": [
    "%matplotlib inline\n",
    "\n",
    "import matplotlib\n",
    "import numpy as np\n",
    "import matplotlib.pyplot as plt\n",
    "import pandas as pd\n",
    "from pathlib import Path"
   ]
  },
  {
   "cell_type": "code",
   "execution_count": 11,
   "metadata": {},
   "outputs": [],
   "source": [
    "import torch\n",
    "from torch import nn\n",
    "from torch.utils.data import Dataset, DataLoader\n",
    "from torchvision import transforms"
   ]
  },
  {
   "cell_type": "code",
   "execution_count": 4,
   "metadata": {},
   "outputs": [],
   "source": [
    "from data import *"
   ]
  },
  {
   "cell_type": "code",
   "execution_count": 6,
   "metadata": {},
   "outputs": [],
   "source": [
    "path = Path('../data')"
   ]
  },
  {
   "cell_type": "code",
   "execution_count": 7,
   "metadata": {},
   "outputs": [],
   "source": [
    "pdbbind_dataset = PdbBindDataset(csvfile=path/'refined_set.csv',\n",
    "                                 rootdir='../../2018/refined-set/',\n",
    "                                 filter_kd=True)\n",
    "sample = pdbbind_dataset[0]"
   ]
  },
  {
   "cell_type": "code",
   "execution_count": 9,
   "metadata": {},
   "outputs": [],
   "source": [
    "tfms = transforms.Compose([Center(),\n",
    "                           Rotate(90),\n",
    "                           Channel(['C'], 20, 1.0, 1.4),\n",
    "                           Channel(['O'], 20, 1.0, 1.4),\n",
    "                           Channel(['N'], 20, 1.0, 1.4),\n",
    "                           ToTensor()])\n",
    "ds = PdbBindDataset(csvfile=path/'refined_set.csv',\n",
    "                    rootdir='../../2018/refined-set/',\n",
    "                    filter_kd=True,\n",
    "                    transform=tfms)"
   ]
  },
  {
   "cell_type": "code",
   "execution_count": 134,
   "metadata": {},
   "outputs": [],
   "source": [
    "class Fire(nn.Module):\n",
    "    def __init__(self, inplanes, squeeze_planes,\n",
    "                 expand1x1_planes, expand3x3_planes):\n",
    "        super(Fire, self).__init__()\n",
    "        self.inplanes = inplanes\n",
    "        self.squeeze = nn.Conv3d(inplanes, squeeze_planes, kernel_size=1)\n",
    "        self.squeeze_activation = nn.ReLU(inplace=True)\n",
    "        self.expand1x1 = nn.Conv3d(squeeze_planes, expand1x1_planes,\n",
    "                                   kernel_size=1)\n",
    "        self.expand1x1_activation = nn.ReLU(inplace=True)\n",
    "        self.expand3x3 = nn.Conv3d(squeeze_planes, expand3x3_planes,\n",
    "                                   kernel_size=3, padding=1)\n",
    "        self.expand3x3_activation = nn.ReLU(inplace=True)\n",
    "\n",
    "    def forward(self, x):\n",
    "        x = self.squeeze_activation(self.squeeze(x))\n",
    "        return torch.cat([\n",
    "            self.expand1x1_activation(self.expand1x1(x)),\n",
    "            self.expand3x3_activation(self.expand3x3(x))\n",
    "        ], 1)\n",
    "\n",
    "class Flatten(nn.Module):\n",
    "    def forward(self, input):\n",
    "        return input.view(input.size(0), -1)\n",
    "    \n",
    "class SqueezeNet(nn.Module):\n",
    "    def __init__(self, input_nc):\n",
    "        super().__init__()\n",
    "        output_nc = 64\n",
    "        features = [nn.Conv3d(input_nc, output_nc, kernel_size=7, stride=2),\n",
    "                    nn.ReLU(inplace=True),\n",
    "                    nn.MaxPool3d(kernel_size=3, stride=2, ceil_mode=True),\n",
    "                    Fire(64, 16, 64, 64),\n",
    "                    Fire(128, 16, 64, 64),\n",
    "                    nn.MaxPool3d(kernel_size=3, stride=2, ceil_mode=True),\n",
    "                    Fire(128, 32, 128, 128),\n",
    "                    Fire(256, 32, 128, 128),\n",
    "                    nn.MaxPool3d(kernel_size=3, stride=2, ceil_mode=True),\n",
    "                    Fire(256, 48, 192, 192),\n",
    "                    Fire(384, 48, 192, 192),\n",
    "                    Fire(384, 64, 256, 256),\n",
    "                    Fire(512, 64, 256, 256)]\n",
    "        \n",
    "        head = [Flatten(),\n",
    "                nn.Dropout(p=0.5),\n",
    "                nn.Linear(512, 128),\n",
    "                nn.ReLU(inplace=True),\n",
    "                nn.BatchNorm1d(128),\n",
    "                nn.Dropout(p=0.5),\n",
    "                nn.Linear(128, 1)\n",
    "                ]\n",
    "        \n",
    "        self.features = nn.Sequential(*features)\n",
    "        self.head = nn.Sequential(*head)\n",
    "    \n",
    "    def forward(self, x):\n",
    "        x = self.features(x)\n",
    "        x = self.head(x)\n",
    "        return x"
   ]
  },
  {
   "cell_type": "code",
   "execution_count": 135,
   "metadata": {},
   "outputs": [],
   "source": [
    "model = SqueezeNet(input_nc=6)"
   ]
  },
  {
   "cell_type": "code",
   "execution_count": 136,
   "metadata": {},
   "outputs": [
    {
     "name": "stdout",
     "output_type": "stream",
     "text": [
      "----------------------------------------------------------------\n",
      "        Layer (type)               Output Shape         Param #\n",
      "================================================================\n",
      "            Conv3d-1          [-1, 64, 9, 9, 9]         131,776\n",
      "              ReLU-2          [-1, 64, 9, 9, 9]               0\n",
      "         MaxPool3d-3          [-1, 64, 4, 4, 4]               0\n",
      "            Conv3d-4          [-1, 16, 4, 4, 4]           1,040\n",
      "              ReLU-5          [-1, 16, 4, 4, 4]               0\n",
      "            Conv3d-6          [-1, 64, 4, 4, 4]           1,088\n",
      "              ReLU-7          [-1, 64, 4, 4, 4]               0\n",
      "            Conv3d-8          [-1, 64, 4, 4, 4]          27,712\n",
      "              ReLU-9          [-1, 64, 4, 4, 4]               0\n",
      "             Fire-10         [-1, 128, 4, 4, 4]               0\n",
      "           Conv3d-11          [-1, 16, 4, 4, 4]           2,064\n",
      "             ReLU-12          [-1, 16, 4, 4, 4]               0\n",
      "           Conv3d-13          [-1, 64, 4, 4, 4]           1,088\n",
      "             ReLU-14          [-1, 64, 4, 4, 4]               0\n",
      "           Conv3d-15          [-1, 64, 4, 4, 4]          27,712\n",
      "             ReLU-16          [-1, 64, 4, 4, 4]               0\n",
      "             Fire-17         [-1, 128, 4, 4, 4]               0\n",
      "        MaxPool3d-18         [-1, 128, 2, 2, 2]               0\n",
      "           Conv3d-19          [-1, 32, 2, 2, 2]           4,128\n",
      "             ReLU-20          [-1, 32, 2, 2, 2]               0\n",
      "           Conv3d-21         [-1, 128, 2, 2, 2]           4,224\n",
      "             ReLU-22         [-1, 128, 2, 2, 2]               0\n",
      "           Conv3d-23         [-1, 128, 2, 2, 2]         110,720\n",
      "             ReLU-24         [-1, 128, 2, 2, 2]               0\n",
      "             Fire-25         [-1, 256, 2, 2, 2]               0\n",
      "           Conv3d-26          [-1, 32, 2, 2, 2]           8,224\n",
      "             ReLU-27          [-1, 32, 2, 2, 2]               0\n",
      "           Conv3d-28         [-1, 128, 2, 2, 2]           4,224\n",
      "             ReLU-29         [-1, 128, 2, 2, 2]               0\n",
      "           Conv3d-30         [-1, 128, 2, 2, 2]         110,720\n",
      "             ReLU-31         [-1, 128, 2, 2, 2]               0\n",
      "             Fire-32         [-1, 256, 2, 2, 2]               0\n",
      "        MaxPool3d-33         [-1, 256, 1, 1, 1]               0\n",
      "           Conv3d-34          [-1, 48, 1, 1, 1]          12,336\n",
      "             ReLU-35          [-1, 48, 1, 1, 1]               0\n",
      "           Conv3d-36         [-1, 192, 1, 1, 1]           9,408\n",
      "             ReLU-37         [-1, 192, 1, 1, 1]               0\n",
      "           Conv3d-38         [-1, 192, 1, 1, 1]         249,024\n",
      "             ReLU-39         [-1, 192, 1, 1, 1]               0\n",
      "             Fire-40         [-1, 384, 1, 1, 1]               0\n",
      "           Conv3d-41          [-1, 48, 1, 1, 1]          18,480\n",
      "             ReLU-42          [-1, 48, 1, 1, 1]               0\n",
      "           Conv3d-43         [-1, 192, 1, 1, 1]           9,408\n",
      "             ReLU-44         [-1, 192, 1, 1, 1]               0\n",
      "           Conv3d-45         [-1, 192, 1, 1, 1]         249,024\n",
      "             ReLU-46         [-1, 192, 1, 1, 1]               0\n",
      "             Fire-47         [-1, 384, 1, 1, 1]               0\n",
      "           Conv3d-48          [-1, 64, 1, 1, 1]          24,640\n",
      "             ReLU-49          [-1, 64, 1, 1, 1]               0\n",
      "           Conv3d-50         [-1, 256, 1, 1, 1]          16,640\n",
      "             ReLU-51         [-1, 256, 1, 1, 1]               0\n",
      "           Conv3d-52         [-1, 256, 1, 1, 1]         442,624\n",
      "             ReLU-53         [-1, 256, 1, 1, 1]               0\n",
      "             Fire-54         [-1, 512, 1, 1, 1]               0\n",
      "           Conv3d-55          [-1, 64, 1, 1, 1]          32,832\n",
      "             ReLU-56          [-1, 64, 1, 1, 1]               0\n",
      "           Conv3d-57         [-1, 256, 1, 1, 1]          16,640\n",
      "             ReLU-58         [-1, 256, 1, 1, 1]               0\n",
      "           Conv3d-59         [-1, 256, 1, 1, 1]         442,624\n",
      "             ReLU-60         [-1, 256, 1, 1, 1]               0\n",
      "             Fire-61         [-1, 512, 1, 1, 1]               0\n",
      "          Flatten-62                  [-1, 512]               0\n",
      "          Dropout-63                  [-1, 512]               0\n",
      "           Linear-64                  [-1, 128]          65,664\n",
      "             ReLU-65                  [-1, 128]               0\n",
      "      BatchNorm1d-66                  [-1, 128]             256\n",
      "          Dropout-67                  [-1, 128]               0\n",
      "           Linear-68                    [-1, 1]             129\n",
      "================================================================\n",
      "Total params: 2,024,449\n",
      "Trainable params: 2,024,449\n",
      "Non-trainable params: 0\n",
      "----------------------------------------------------------------\n",
      "Input size (MB): 0.32\n",
      "Forward/backward pass size (MB): 1.32\n",
      "Params size (MB): 7.72\n",
      "Estimated Total Size (MB): 9.36\n",
      "----------------------------------------------------------------\n"
     ]
    }
   ],
   "source": [
    "from torchsummary import summary\n",
    "summary(model, input_size=(6, 24, 24, 24))"
   ]
  },
  {
   "cell_type": "code",
   "execution_count": null,
   "metadata": {},
   "outputs": [],
   "source": []
  },
  {
   "cell_type": "code",
   "execution_count": null,
   "metadata": {},
   "outputs": [],
   "source": []
  }
 ],
 "metadata": {
  "kernelspec": {
   "display_name": "Python 3",
   "language": "python",
   "name": "python3"
  },
  "language_info": {
   "codemirror_mode": {
    "name": "ipython",
    "version": 3
   },
   "file_extension": ".py",
   "mimetype": "text/x-python",
   "name": "python",
   "nbconvert_exporter": "python",
   "pygments_lexer": "ipython3",
   "version": "3.6.7"
  }
 },
 "nbformat": 4,
 "nbformat_minor": 2
}
