{
 "cells": [
  {
   "cell_type": "code",
   "execution_count": 1,
   "metadata": {},
   "outputs": [],
   "source": [
    "%matplotlib inline\n",
    "\n",
    "import matplotlib\n",
    "import numpy as np\n",
    "import matplotlib.pyplot as plt\n",
    "import pandas as pd\n",
    "from pathlib import Path"
   ]
  },
  {
   "cell_type": "code",
   "execution_count": 2,
   "metadata": {},
   "outputs": [],
   "source": [
    "path = Path('../data')"
   ]
  },
  {
   "cell_type": "code",
   "execution_count": 3,
   "metadata": {},
   "outputs": [],
   "source": [
    "import torch\n",
    "from torch.utils.data import Dataset, DataLoader\n",
    "from torchvision import transforms\n",
    "import griddata\n",
    "from griddata.grid import Grid\n",
    "import numba\n",
    "from math import exp, sqrt, cos, sin"
   ]
  },
  {
   "cell_type": "code",
   "execution_count": 4,
   "metadata": {},
   "outputs": [],
   "source": [
    "class GridPDB:\n",
    "    def __init__(self, file):\n",
    "        if file.endswith('pdb'):\n",
    "            self.pdbfile = file\n",
    "            self.parse_pdb()\n",
    "        if file.endswith('mol2'):\n",
    "            self.mol2file = file\n",
    "            self.parse_mol2()\n",
    "        \n",
    "    def parse_mol2(self):\n",
    "        self.atoms = []\n",
    "        self.atomtypes = []\n",
    "        self.coords = []\n",
    "        flag = False\n",
    "        for line in open(self.mol2file):\n",
    "            if line.startswith(\"@<TRIPOS>ATOM\"):\n",
    "                flag = True\n",
    "                continue\n",
    "            if line.startswith(\"@<TRIPOS>BOND\"):\n",
    "                break\n",
    "            if flag:\n",
    "                name = line[8:16].strip()\n",
    "                if name[0] == 'H': continue\n",
    "                    \n",
    "                x = line[16:26]\n",
    "                y = line[26:36]\n",
    "                z = line[36:46]\n",
    "                self.atoms.append(name)\n",
    "                self.atomtypes.append(name[0])\n",
    "                self.coords.append(list(map(float, (x, y, z))))\n",
    "                \n",
    "        self.atoms = np.array(self.atoms)\n",
    "        self.atomtypes = np.array(self.atomtypes)\n",
    "        self.coords = np.array(self.coords, dtype=np.float32)\n",
    "        self.center = np.average(self.coords, axis=0)\n",
    "    \n",
    "    def parse_pdb(self):\n",
    "        self.atoms = []\n",
    "        self.atomtypes = []\n",
    "        self.coords = []\n",
    "        for line in open(self.pdbfile):\n",
    "            if line.startswith(\"ATOM\"):\n",
    "                name = line[11:17].strip()\n",
    "                if name[0] == 'H': continue\n",
    "                if name[0].isdigit(): continue\n",
    "                    \n",
    "                x = line[30:38]\n",
    "                y = line[38:46]\n",
    "                z = line[46:54]\n",
    "                self.atoms.append(name)\n",
    "                self.atomtypes.append(name[0])\n",
    "                self.coords.append(list(map(float, (x, y, z))))\n",
    "                \n",
    "        self.atoms = np.array(self.atoms)\n",
    "        self.atomtypes = np.array(self.atomtypes)\n",
    "        self.coords = np.array(self.coords, dtype=np.float32)\n",
    "        self.center = np.average(self.coords, axis=0)\n",
    "    \n",
    "    def compute_grid(self, size=20, spacing=1.0):\n",
    "        nx, ny, nz = [int(size/spacing)+1 for _ in range(3)]\n",
    "        xmin, ymin, zmin = [_-int(size/2) for _ in pdb.center]\n",
    "        grid = np.zeros((nx, ny, nz), dtype=np.float32)\n",
    "        self.ndelements = coords_to_grid_numba(self.coords, grid, nx, ny, nz, xmin, ymin, zmin, spacing)\n",
    "    \n",
    "    def save_grid(self, filename):\n",
    "        g = Grid()\n",
    "        g.n_elements = np.cumprod(self.elements.shape)\n",
    "        g.center = list(self.center)\n",
    "        g.shape = self.elements.shape\n",
    "        g.spacing = (self.spacing, self.spacing, self.spacing)\n",
    "        g.set_elements(self.ndelements.flatten())\n",
    "        griddata.save(g, open(filename, 'w'), format='dx')"
   ]
  },
  {
   "cell_type": "code",
   "execution_count": 5,
   "metadata": {
    "scrolled": false
   },
   "outputs": [],
   "source": [
    "def coords_to_grid_np(coords, grid, nx, ny, nz, xmin, ymin, zmin, spacing, rvdw):\n",
    "    assert grid.shape == (nx, ny, nz)\n",
    "    ncoords = len(coords)\n",
    "    X,Y,Z = np.mgrid[xmin:xmin+nx*spacing:spacing, \n",
    "                     ymin:ymin+ny*spacing:spacing,\n",
    "                     zmin:zmin+nz*spacing:spacing]\n",
    "\n",
    "    xyz = np.vstack((X.flatten(), Y.flatten(), Z.flatten())).T\n",
    "    for i in range(ncoords):\n",
    "        r = np.linalg.norm(xyz - (coords[i]), axis=1).reshape((nx, ny, nz))\n",
    "        grid += 1 - np.exp(-(rvdw/r)**12)\n",
    "    return grid"
   ]
  },
  {
   "cell_type": "code",
   "execution_count": 121,
   "metadata": {
    "scrolled": false
   },
   "outputs": [],
   "source": [
    "@numba.jit('f4[:,:,:](f4[:,:], f4[:,:,:], i8, i8, i8, f8, f8, f8, f8, f8)', nopython=True)\n",
    "def coords_to_grid_numba(coords, grid, nx, ny, nz, xmin, ymin, zmin, spacing, rvdw):\n",
    "    exps = 0.001\n",
    "    rmax = 30\n",
    "    expt = np.exp(-(rvdw/np.arange(0,rmax,exps))**12)\n",
    "    nc = len(coords)\n",
    "    for i in range(nx):\n",
    "        ix = xmin + i*spacing\n",
    "        for j in range(ny):\n",
    "            iy = ymin + j*spacing\n",
    "            for k in range(nz):\n",
    "                iz = zmin + k*spacing\n",
    "                for l in range(nc):\n",
    "                    dx = ix - coords[l,0]\n",
    "                    dy = iy - coords[l,1]\n",
    "                    dz = iz - coords[l,2]\n",
    "                    r = sqrt(dx*dx + dy*dy + dz*dz)\n",
    "                    #grid[i,j,k] += 1 - exp(-(rvdw/r)**12)\n",
    "                    if r > rmax: continue\n",
    "                    grid[i,j,k] += 1 - expt[int(r/exps)]\n",
    "    return grid"
   ]
  },
  {
   "cell_type": "code",
   "execution_count": 122,
   "metadata": {
    "scrolled": false
   },
   "outputs": [
    {
     "name": "stdout",
     "output_type": "stream",
     "text": [
      "29.3 ms ± 2.51 ms per loop (mean ± std. dev. of 7 runs, 10 loops each)\n"
     ]
    }
   ],
   "source": [
    "pdb = GridPDB('../../../2018/refined-set/10gs/10gs_pocket.pdb')\n",
    "size = 20\n",
    "rvdw = 1.4\n",
    "spacing = 1.0\n",
    "nx, ny, nz = [int(size/spacing)+1 for _ in range(3)]\n",
    "xmin, ymin, zmin = [_-int(size/2) for _ in pdb.center]\n",
    "grid = np.zeros((nx, ny, nz), dtype=np.float32)\n",
    "%timeit coords_to_grid_numba(pdb.coords, grid, nx, ny, nz, xmin, ymin, zmin, spacing, rvdw)"
   ]
  },
  {
   "cell_type": "code",
   "execution_count": 117,
   "metadata": {},
   "outputs": [
    {
     "name": "stdout",
     "output_type": "stream",
     "text": [
      "345 ms ± 14.3 ms per loop (mean ± std. dev. of 7 runs, 1 loop each)\n"
     ]
    }
   ],
   "source": [
    "pdb = GridPDB('../../../2018/refined-set/10gs/10gs_pocket.pdb')\n",
    "size = 20\n",
    "spacing = 1.0\n",
    "rvdw = 1.4\n",
    "nx, ny, nz = [int(size/spacing)+1 for _ in range(3)]\n",
    "xmin, ymin, zmin = [_-int(size/2) for _ in pdb.center]\n",
    "grid = np.zeros((nx, ny, nz), dtype=np.float32)\n",
    "%timeit coords_to_grid_np(pdb.coords, grid, nx, ny, nz, xmin, ymin, zmin, spacing, rvdw)"
   ]
  },
  {
   "cell_type": "code",
   "execution_count": 123,
   "metadata": {},
   "outputs": [],
   "source": [
    "grid = np.zeros((nx, ny, nz), dtype=np.float32)\n",
    "grid1 = coords_to_grid_numba(pdb.coords, grid, nx, ny, nz, xmin, ymin, zmin, spacing, rvdw)\n",
    "grid = np.zeros((nx, ny, nz), dtype=np.float32)\n",
    "grid2 = coords_to_grid_np(pdb.coords, grid, nx, ny, nz, xmin, ymin, zmin, spacing, rvdw)"
   ]
  },
  {
   "cell_type": "code",
   "execution_count": 129,
   "metadata": {},
   "outputs": [
    {
     "data": {
      "text/plain": [
       "3.3601799e-10"
      ]
     },
     "execution_count": 129,
     "metadata": {},
     "output_type": "execute_result"
    }
   ],
   "source": [
    "np.min(grid1)"
   ]
  },
  {
   "cell_type": "code",
   "execution_count": 125,
   "metadata": {},
   "outputs": [
    {
     "data": {
      "text/plain": [
       "3.6914661"
      ]
     },
     "execution_count": 125,
     "metadata": {},
     "output_type": "execute_result"
    }
   ],
   "source": [
    "np.sum(grid1 - grid2)"
   ]
  },
  {
   "cell_type": "code",
   "execution_count": 314,
   "metadata": {},
   "outputs": [],
   "source": [
    "class PdbBindDataset(Dataset):\n",
    "    def __init__(self, csvfile, rootdir, transform=None, filter_kd=False):\n",
    "        self.df = pd.read_csv(csvfile)\n",
    "        self.rootdir = rootdir\n",
    "        self.transform = transform\n",
    "        if filter_kd:\n",
    "            self.df = self.df[self.df.afftype == 'Kd']\n",
    "    \n",
    "    def __len__(self):\n",
    "        return len(self.df)\n",
    "\n",
    "    def __getitem__(self, index):\n",
    "        row = self.df.iloc[index]\n",
    "        pdbfile = '{}/{}/{}_protein.pdb'.format(self.rootdir, row.code, row.code)\n",
    "        pocketfile = '{}/{}/{}_pocket.pdb'.format(self.rootdir, row.code, row.code)\n",
    "        ligandfile = '{}/{}/{}_ligand.mol2'.format(self.rootdir, row.code, row.code)\n",
    "        sample = {\n",
    "            'code': row.code,\n",
    "            'pdbfile': pdbfile,\n",
    "            'pocket': GridPDB(pocketfile),\n",
    "            'ligand': GridPDB(ligandfile),\n",
    "            'channels': [],\n",
    "            'affinity': row.affinity\n",
    "        }\n",
    "        if self.transform:\n",
    "            sample = self.transform(sample)\n",
    "        return sample"
   ]
  },
  {
   "cell_type": "code",
   "execution_count": 279,
   "metadata": {},
   "outputs": [],
   "source": []
  },
  {
   "cell_type": "code",
   "execution_count": 335,
   "metadata": {
    "scrolled": false
   },
   "outputs": [],
   "source": [
    "class Channel:\n",
    "    \"\"\"Convert atomic coordinates into grid (channel)\n",
    "    \n",
    "    Args:\n",
    "        atomtypes: list of atom types to convert into grid\n",
    "        size: size of grid in angstrom\n",
    "        spacing: grid spacing in angstrom\n",
    "        rvdw: r_vdw parameter in grid\n",
    "    \"\"\"\n",
    "    def __init__(self, atomtypes, size, spacing, rvdw):\n",
    "        self.atomtypes = atomtypes\n",
    "        self.size = size\n",
    "        self.spacing = spacing\n",
    "        self.rvdw = rvdw\n",
    "    \n",
    "    def __call__(self, sample):\n",
    "        size = float(self.size)\n",
    "        spacing = float(self.spacing)\n",
    "        rvdw = float(self.rvdw)\n",
    "        nx, ny, nz = [int(size/spacing)+1 for _ in range(3)]\n",
    "        xmin, ymin, zmin = [_-size/2 for _ in sample['pocket'].center]\n",
    "        idx = [_ in self.atomtypes for _ in sample['pocket'].atomtypes]\n",
    "        grid = np.zeros((nx, ny, nz), dtype=np.float32)\n",
    "        grid = coords_to_grid_numba(sample['pocket'].coords[idx], grid, \n",
    "                                    nx, ny, nz, xmin, ymin, zmin, spacing, rvdw)\n",
    "        sample['channels'].append(grid)\n",
    "        \n",
    "        idx = [_ in self.atomtypes for _ in sample['ligand'].atomtypes]\n",
    "        grid = np.zeros((nx, ny, nz), dtype=np.float32)\n",
    "        grid = coords_to_grid_numba(sample['ligand'].coords[idx], grid, \n",
    "                                    nx, ny, nz, xmin, ymin, zmin, self.spacing, self.rvdw)\n",
    "        sample['channels'].append(grid)\n",
    "        return sample\n",
    "\n",
    "class Rotate:\n",
    "    \"\"\"Rotate input structure\n",
    "    \n",
    "    Args:\n",
    "        degree: maximum degree to rotate (+/-)\n",
    "    \"\"\"\n",
    "    def __init__(self, degree):\n",
    "        self.degree = degree\n",
    "    \n",
    "    def __call__(self, sample):\n",
    "        theta = (np.random.random_sample(3,) - 0.5)*self.degree/180*np.pi\n",
    "        rx = np.matrix((( 1,             0,              0),\n",
    "                        ( 0, cos(theta[0]), -sin(theta[0])),\n",
    "                        ( 0, sin(theta[0]),  cos(theta[0]))))\n",
    "        ry = np.matrix((( cos(theta[1]), 0, sin(theta[1])),\n",
    "                        (             0, 1,             0),\n",
    "                        (-sin(theta[1]), 0, cos(theta[1]))))\n",
    "        rz = np.matrix((( cos(theta[2]), -sin(theta[2]), 0),\n",
    "                        ( sin(theta[2]),  cos(theta[2]), 0),\n",
    "                        (             0,              0, 1)))\n",
    "        r = rx * ry * rz\n",
    "        sample['pocket'].coords = np.array(np.dot(r, (sample['pocket'].coords).T).T, dtype=np.float32)\n",
    "        sample['ligand'].coords = np.array(np.dot(r, (sample['ligand'].coords).T).T, dtype=np.float32)\n",
    "        return sample\n",
    "    \n",
    "class Center:\n",
    "    \"\"\"Center input structure\"\"\"\n",
    "    def __call__(self, sample):\n",
    "        com = sample['pocket'].center\n",
    "        sample['pocket'].coords = sample['pocket'].coords - com\n",
    "        sample['ligand'].coords = sample['ligand'].coords - com\n",
    "        return sample\n",
    "    \n",
    "class ToTensor(object):\n",
    "    \"\"\"Convert ndarrays in sample to Tensors.\"\"\"\n",
    "\n",
    "    def __call__(self, sample):\n",
    "        grids = np.vstack([c[np.newaxis,:] for c in sample['channels']])\n",
    "        return {\n",
    "            'grids': torch.from_numpy(grids),\n",
    "            'affinity': torch.from_numpy(np.array([sample['affinity']]))\n",
    "        }"
   ]
  },
  {
   "cell_type": "code",
   "execution_count": 336,
   "metadata": {},
   "outputs": [],
   "source": [
    "rotate = Rotate(90)\n",
    "channel_c = Channel(['C'], 20, 1.0, 1.4)\n",
    "channel_o = Channel(['O'], 20, 1.0, 1.4)\n",
    "channel_n = Channel(['N'], 20, 1.0, 1.4)\n",
    "composed = transforms.Compose([Center(),\n",
    "                               rotate,\n",
    "                               channel_c,\n",
    "                               channel_o,\n",
    "                               channel_n,\n",
    "                               ToTensor()])"
   ]
  },
  {
   "cell_type": "code",
   "execution_count": 339,
   "metadata": {
    "scrolled": true
   },
   "outputs": [],
   "source": [
    "pdbbind_dataset = PdbBindDataset(csvfile=path/'refined_set.csv',\n",
    "                                 rootdir='../../2018/refined-set/',\n",
    "                                 filter_kd=True)\n",
    "sample = pdbbind_dataset[0]"
   ]
  },
  {
   "cell_type": "code",
   "execution_count": 310,
   "metadata": {},
   "outputs": [
    {
     "name": "stdout",
     "output_type": "stream",
     "text": [
      "../../2018/refined-set//2tpi/2tpi_protein.pdb\n"
     ]
    }
   ],
   "source": [
    "# test\n",
    "print(sample['pdbfile'])\n",
    "rotated = rotate(sample)['pocket'].coords\n",
    "with open('test.pdb', 'w') as f:\n",
    "    for c in rotated:\n",
    "        f.write(\"%8.3f%8.3f%8.3f\\n\" % (c[0], c[1], c[2]))"
   ]
  },
  {
   "cell_type": "code",
   "execution_count": 340,
   "metadata": {},
   "outputs": [],
   "source": [
    "assert len(composed(sample)['grids'].shape) == 4"
   ]
  },
  {
   "cell_type": "code",
   "execution_count": 341,
   "metadata": {},
   "outputs": [],
   "source": [
    "tfms = transforms.Compose([Center(),\n",
    "                           rotate,\n",
    "                           channel_c,\n",
    "                           channel_o,\n",
    "                           channel_n,\n",
    "                           ToTensor()])\n",
    "ds = PdbBindDataset(csvfile=path/'refined_set.csv',\n",
    "                    rootdir='../../2018/refined-set/',\n",
    "                    filter_kd=True,\n",
    "                    transform=tfms)"
   ]
  },
  {
   "cell_type": "code",
   "execution_count": 342,
   "metadata": {},
   "outputs": [],
   "source": [
    "dataloader = DataLoader(ds, batch_size=4,\n",
    "                        shuffle=True, num_workers=0)"
   ]
  },
  {
   "cell_type": "raw",
   "metadata": {
    "scrolled": false
   },
   "source": [
    "for i_batch, sample_batched in enumerate(dataloader):\n",
    "    break"
   ]
  },
  {
   "cell_type": "code",
   "execution_count": null,
   "metadata": {},
   "outputs": [],
   "source": []
  }
 ],
 "metadata": {
  "kernelspec": {
   "display_name": "Python 3",
   "language": "python",
   "name": "python3"
  },
  "language_info": {
   "codemirror_mode": {
    "name": "ipython",
    "version": 3
   },
   "file_extension": ".py",
   "mimetype": "text/x-python",
   "name": "python",
   "nbconvert_exporter": "python",
   "pygments_lexer": "ipython3",
   "version": "3.6.6"
  }
 },
 "nbformat": 4,
 "nbformat_minor": 2
}
