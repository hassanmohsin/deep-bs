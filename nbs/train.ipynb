{
 "cells": [
  {
   "cell_type": "code",
   "execution_count": 1,
   "metadata": {},
   "outputs": [],
   "source": [
    "%matplotlib inline\n",
    "\n",
    "import matplotlib\n",
    "import numpy as np\n",
    "import matplotlib.pyplot as plt\n",
    "import pandas as pd\n",
    "from pathlib import Path"
   ]
  },
  {
   "cell_type": "code",
   "execution_count": 2,
   "metadata": {},
   "outputs": [],
   "source": [
    "import torch\n",
    "from torch import nn\n",
    "from torch.utils.data import Dataset, DataLoader\n",
    "from torchvision import transforms"
   ]
  },
  {
   "cell_type": "code",
   "execution_count": 3,
   "metadata": {},
   "outputs": [],
   "source": [
    "from data import *\n",
    "from data.base_dataset import *\n",
    "from data.pdbbind_dataset import *\n",
    "from model import *"
   ]
  },
  {
   "cell_type": "code",
   "execution_count": 4,
   "metadata": {},
   "outputs": [],
   "source": [
    "device = torch.device(\"cuda:2\" if torch.cuda.is_available() else \"cpu\")"
   ]
  },
  {
   "cell_type": "code",
   "execution_count": 5,
   "metadata": {},
   "outputs": [],
   "source": [
    "path = Path('../../data')"
   ]
  },
  {
   "cell_type": "code",
   "execution_count": 6,
   "metadata": {},
   "outputs": [],
   "source": [
    "input_nc = 24\n",
    "bs = 16\n",
    "\n",
    "tfms = transforms.Compose([Center(),\n",
    "                           Rotate(90),\n",
    "                           Channel(['C'], input_nc, 1.0, 1.4),\n",
    "                           Channel(['O'], input_nc, 1.0, 1.4),\n",
    "                           Channel(['N'], input_nc, 1.0, 1.4),\n",
    "                           ToTensor()])\n",
    "class Option:\n",
    "    csvfile = path/'refined_set.csv'\n",
    "    dataroot = '../../../2018/refined-set/'\n",
    "    channels = 'cno'\n",
    "    grid_size = 20\n",
    "    grid_spacing = 1\n",
    "    rvdw = 1.4\n",
    "    filter_kd = True\n",
    "    rotate = 10\n",
    "\n",
    "opt = Option()\n",
    "ds = PdbBindDataset()\n",
    "ds.initialize(opt)\n",
    "dl = torch.utils.data.DataLoader(ds, batch_size=bs,\n",
    "                                 shuffle=True, num_workers=0)"
   ]
  },
  {
   "cell_type": "raw",
   "metadata": {},
   "source": [
    "pdb = GridPDB('../../../2018/refined-set/10gs/10gs_pocket.pdb')\n",
    "size = 20\n",
    "rvdw = 1.4\n",
    "spacing = 1.0\n",
    "nx, ny, nz = [int(size/spacing)+1 for _ in range(3)]\n",
    "xmin, ymin, zmin = [_-int(size/2) for _ in pdb.center]\n",
    "grid = np.zeros((nx, ny, nz), dtype=np.float32)\n",
    "coords_to_grid_numba(pdb.coords, grid, nx, ny, nz, xmin, ymin, zmin, spacing, rvdw)"
   ]
  },
  {
   "cell_type": "code",
   "execution_count": 7,
   "metadata": {},
   "outputs": [],
   "source": [
    "data = next(iter(dl))"
   ]
  },
  {
   "cell_type": "code",
   "execution_count": 24,
   "metadata": {
    "scrolled": false
   },
   "outputs": [
    {
     "data": {
      "text/plain": [
       "1.9576517"
      ]
     },
     "execution_count": 24,
     "metadata": {},
     "output_type": "execute_result"
    }
   ],
   "source": [
    "np.max(data['grids'][1,5].cpu().numpy())"
   ]
  },
  {
   "cell_type": "code",
   "execution_count": 15,
   "metadata": {},
   "outputs": [
    {
     "ename": "NameError",
     "evalue": "name 'KDeepModel' is not defined",
     "output_type": "error",
     "traceback": [
      "\u001b[0;31m---------------------------------------------------------------------------\u001b[0m",
      "\u001b[0;31mNameError\u001b[0m                                 Traceback (most recent call last)",
      "\u001b[0;32m<ipython-input-15-f8283ea84bf1>\u001b[0m in \u001b[0;36m<module>\u001b[0;34m()\u001b[0m\n\u001b[0;32m----> 1\u001b[0;31m \u001b[0mmodel\u001b[0m \u001b[0;34m=\u001b[0m \u001b[0mKDeepModel\u001b[0m\u001b[0;34m(\u001b[0m\u001b[0minput_nc\u001b[0m\u001b[0;34m=\u001b[0m\u001b[0;36m6\u001b[0m\u001b[0;34m)\u001b[0m\u001b[0;34m\u001b[0m\u001b[0m\n\u001b[0m\u001b[1;32m      2\u001b[0m \u001b[0mmodel\u001b[0m\u001b[0;34m.\u001b[0m\u001b[0mto\u001b[0m\u001b[0;34m(\u001b[0m\u001b[0mdevice\u001b[0m\u001b[0;34m)\u001b[0m\u001b[0;34m\u001b[0m\u001b[0m\n",
      "\u001b[0;31mNameError\u001b[0m: name 'KDeepModel' is not defined"
     ]
    }
   ],
   "source": [
    "model = KDeepModel(input_nc=6)\n",
    "model.to(device)"
   ]
  },
  {
   "cell_type": "code",
   "execution_count": 29,
   "metadata": {},
   "outputs": [],
   "source": [
    "import torch.optim as optim\n",
    "\n",
    "criterion = nn.MSELoss()\n",
    "optimizer = optim.SGD(model.parameters(), lr=0.01, momentum=0.9)"
   ]
  },
  {
   "cell_type": "code",
   "execution_count": 57,
   "metadata": {},
   "outputs": [],
   "source": [
    "for param_group in optimizer.param_groups:\n",
    "    param_group['lr'] = 0.0001"
   ]
  },
  {
   "cell_type": "code",
   "execution_count": null,
   "metadata": {},
   "outputs": [
    {
     "name": "stdout",
     "output_type": "stream",
     "text": [
      "[1,    20] loss: 42.319\n",
      "[1,    40] loss: 45.145\n",
      "[1,    60] loss: 45.195\n",
      "[1,    80] loss: 38.745\n",
      "[1,   100] loss: 42.507\n",
      "[1,   120] loss: 42.891\n",
      "[2,    20] loss: 45.096\n",
      "[2,    40] loss: 40.623\n",
      "[2,    60] loss: 42.159\n",
      "[2,    80] loss: 40.413\n",
      "[2,   100] loss: 43.612\n",
      "[2,   120] loss: 46.234\n",
      "[3,    20] loss: 45.709\n",
      "[3,    40] loss: 38.737\n",
      "[3,    60] loss: 41.660\n",
      "[3,    80] loss: 49.065\n",
      "[3,   100] loss: 39.815\n",
      "[3,   120] loss: 45.227\n",
      "[4,    20] loss: 43.844\n",
      "[4,    40] loss: 43.751\n",
      "[4,    60] loss: 45.393\n",
      "[4,    80] loss: 42.424\n",
      "[4,   100] loss: 43.655\n",
      "[4,   120] loss: 39.146\n",
      "[5,    20] loss: 40.133\n",
      "[5,    40] loss: 43.738\n",
      "[5,    60] loss: 46.688\n",
      "[5,    80] loss: 44.534\n",
      "[5,   100] loss: 42.289\n",
      "[5,   120] loss: 40.027\n",
      "[6,    20] loss: 42.493\n",
      "[6,    40] loss: 45.166\n",
      "[6,    60] loss: 42.097\n",
      "[6,    80] loss: 43.195\n",
      "[6,   100] loss: 41.787\n",
      "[6,   120] loss: 47.753\n",
      "[7,    20] loss: 46.517\n",
      "[7,    40] loss: 41.264\n",
      "[7,    60] loss: 39.224\n",
      "[7,    80] loss: 44.188\n",
      "[7,   100] loss: 45.179\n",
      "[7,   120] loss: 41.914\n",
      "[8,    20] loss: 42.662\n",
      "[8,    40] loss: 45.317\n",
      "[8,    60] loss: 40.997\n",
      "[8,    80] loss: 40.659\n",
      "[8,   100] loss: 44.622\n",
      "[8,   120] loss: 46.441\n",
      "[9,    20] loss: 44.803\n",
      "[9,    40] loss: 46.999\n",
      "[9,    60] loss: 39.653\n",
      "[9,    80] loss: 44.818\n",
      "[9,   100] loss: 41.919\n",
      "[9,   120] loss: 43.537\n",
      "[10,    20] loss: 39.665\n",
      "[10,    40] loss: 43.303\n",
      "[10,    60] loss: 44.417\n",
      "[10,    80] loss: 43.460\n"
     ]
    }
   ],
   "source": [
    "for epoch in range(10):\n",
    "    running_loss = 0\n",
    "    for i, data in enumerate(dl, 0):\n",
    "        grids = data['grids'].to(device)\n",
    "        affinities = data['affinity'].to(device)\n",
    "        optimizer.zero_grad()\n",
    "\n",
    "        # forward + backward + optimize\n",
    "        outputs = model(grids)\n",
    "        loss = criterion(outputs, affinities)\n",
    "        loss.backward()\n",
    "        optimizer.step()\n",
    "\n",
    "        # print statistics\n",
    "        running_loss += loss.item()\n",
    "        if i % 20 == 19:    # print every 2000 mini-batches\n",
    "            print('[%d, %5d] loss: %.3f' %\n",
    "                  (epoch + 1, i + 1, running_loss / 20))\n",
    "            running_loss = 0.0"
   ]
  },
  {
   "cell_type": "code",
   "execution_count": 55,
   "metadata": {},
   "outputs": [
    {
     "data": {
      "text/plain": [
       "tensor([[10.8296],\n",
       "        [10.4283],\n",
       "        [ 9.4874],\n",
       "        [ 9.2714],\n",
       "        [ 9.8149]], device='cuda:1', grad_fn=<AddmmBackward>)"
      ]
     },
     "execution_count": 55,
     "metadata": {},
     "output_type": "execute_result"
    }
   ],
   "source": [
    "outputs"
   ]
  },
  {
   "cell_type": "code",
   "execution_count": 56,
   "metadata": {},
   "outputs": [
    {
     "data": {
      "text/plain": [
       "tensor([[ 8.5685],\n",
       "        [ 4.7105],\n",
       "        [ 2.8134],\n",
       "        [ 5.8091],\n",
       "        [16.1181]], device='cuda:1')"
      ]
     },
     "execution_count": 56,
     "metadata": {},
     "output_type": "execute_result"
    }
   ],
   "source": [
    "affinities"
   ]
  },
  {
   "cell_type": "code",
   "execution_count": null,
   "metadata": {},
   "outputs": [],
   "source": []
  }
 ],
 "metadata": {
  "kernelspec": {
   "display_name": "Python 3",
   "language": "python",
   "name": "python3"
  },
  "language_info": {
   "codemirror_mode": {
    "name": "ipython",
    "version": 3
   },
   "file_extension": ".py",
   "mimetype": "text/x-python",
   "name": "python",
   "nbconvert_exporter": "python",
   "pygments_lexer": "ipython3",
   "version": "3.6.6"
  }
 },
 "nbformat": 4,
 "nbformat_minor": 2
}
